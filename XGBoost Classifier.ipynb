{
 "cells": [
  {
   "cell_type": "markdown",
   "metadata": {},
   "source": [
    "**Importando bibliotecas que serão úteis para o Catboost classifier e determinando uma random_seed**"
   ]
  },
  {
   "cell_type": "code",
   "execution_count": 1,
   "metadata": {},
   "outputs": [],
   "source": [
    "import numpy as np\n",
    "import pandas as pd\n",
    "import seaborn as sns\n",
    "import matplotlib.pyplot as plt\n",
    "import pickle\n",
    "\n",
    "from sklearn.feature_extraction.text import TfidfVectorizer\n",
    "from sklearn.model_selection import train_test_split, GridSearchCV\n",
    "from sklearn import metrics\n",
    "from sklearn.metrics import accuracy_score\n",
    "from sklearn.metrics import confusion_matrix, classification_report\n",
    "from catboost import CatBoostClassifier\n",
    "from catboost import Pool, cv\n",
    "from sklearn.preprocessing import LabelEncoder\n",
    "\n",
    "#Set seed\n",
    "seed_ = 194\n",
    "np.random.seed(seed_)"
   ]
  },
  {
   "cell_type": "markdown",
   "metadata": {},
   "source": [
    "**Carregando a base de dados a ser utilizada**"
   ]
  },
  {
   "cell_type": "code",
   "execution_count": null,
   "metadata": {},
   "outputs": [],
   "source": [
    "\n",
    "df = pd.read_csv('datasets/df_sem_duplicatas.csv')"
   ]
  },
  {
   "cell_type": "markdown",
   "metadata": {},
   "source": [
    "**Set-Up do LabelEncoder model**"
   ]
  },
  {
   "cell_type": "code",
   "execution_count": null,
   "metadata": {},
   "outputs": [],
   "source": [
    "#Criação do LabelEncoder\n",
    "pkl_file = open('models/label_encoder.pkl', 'rb')\n",
    "le = pickle.load(pkl_file) \n",
    "pkl_file.close()\n",
    "\n",
    "#O código abaixo é para aplicar na coluna categoria o LabelEncoder\n",
    "le.fit(df['categoria'])\n",
    "df['categoria'] = le.transform(df['categoria'])\n",
    "\n",
    "#Atribuição das classes do LabelEncoder a variável target_names\n",
    "target_names = le.classes_"
   ]
  },
  {
   "cell_type": "markdown",
   "metadata": {},
   "source": [
    "**Separando em treino e teste**"
   ]
  },
  {
   "cell_type": "code",
   "execution_count": null,
   "metadata": {},
   "outputs": [],
   "source": [
    "# Separando em variaveis independentes e dependentes\n",
    "X, y = df.drop('categoria', axis = 1), df['categoria']\n",
    "\n",
    "# Separando em treino e teste\n",
    "X_train, X_test, y_train, y_test = train_test_split(X, y, test_size = 0.2, random_state = seed_)\n",
    "data_train = pd.concat([X_train, y_train], axis = 1)\n",
    "\n",
    "# Separando em teste e validação\n",
    "X_val, X_test, y_val, y_test = train_test_split(X_test, y_test, test_size = 0.5, random_state = seed_)\n",
    "\n",
    "# Gerando TF-IDF\n",
    "TfidfVec = TfidfVectorizer(ngram_range = (1, 1))\n",
    "X_train_tfidf = TfidfVec.fit_transform(X_train['descricao'].tolist())\n",
    "X_val_tfidf = TfidfVec.transform(X_val['descricao'].tolist())\n",
    "X_test_tfidf = TfidfVec.transform(X_test['descricao'].tolist())\n",
    "\n",
    "# Salvando tf-idf como pickle\n",
    "with open('models/tfidf_catboost.pkl', 'wb') as model_file:\n",
    "    pickle.dump(TfidfVec, model_file)"
   ]
  },
  {
   "cell_type": "markdown",
   "metadata": {},
   "source": [
    "**Set up Modelo Castboost**\n",
    "\n",
    "Impressão de metricas e treinamento com o GridSearchCV"
   ]
  },
  {
   "cell_type": "code",
   "execution_count": null,
   "metadata": {},
   "outputs": [],
   "source": [
    "#a função report_modelo é para imprimir as métricas do modelo\n",
    "def report_modelo(modelo, y, pred):\n",
    "    print(\"Acurácia: %f\" % accuracy_score(y_true = y, y_pred = pred))\n",
    "    \n",
    "    # Plotando a matriz de confusão\n",
    "    cm = confusion_matrix(y, pred)\n",
    "    cm = pd.DataFrame(cm, index = target_names, columns = target_names)\n",
    "\n",
    "    plt.figure(figsize = (8, 8))\n",
    "    sns.heatmap(cm, cmap = \"Blues\", linecolor = 'black', linewidths = 1, annot = True, \\\n",
    "                fmt = '', xticklabels = target_names, yticklabels = target_names)\n",
    "    plt.show()\n",
    "    \n",
    "    # Imprimindo métricas\n",
    "    print(classification_report(y_true = y, y_pred = pred, target_names= target_names))"
   ]
  },
  {
   "cell_type": "code",
   "execution_count": null,
   "metadata": {},
   "outputs": [],
   "source": [
    "#A função treinaClassificacao_GridSearchCV é para treinar o modelo com o GridSearchCV\n",
    "def treinaClassificacao_GridSearchCV(modelo, params_, x_treino, y_treino, x_teste, y_teste,\\\n",
    "                        n_jobs = -1, cv = 5, refit = True, scoring = None, salvar_resultados = False,\\\n",
    "                       report_treino = False, retorna_modelo = False):\n",
    "    \n",
    "    # Realizando treinamento baseado no grid informado\n",
    "    grid = GridSearchCV(modelo, params_, n_jobs = n_jobs, cv = cv, refit = refit, scoring = scoring)\n",
    "    \n",
    "    grid.fit(x_treino, y_treino)\n",
    "    pred = grid.predict(x_teste)\n",
    "    modelo_ = grid.best_estimator_\n",
    "\n",
    "    print(grid.best_params_)\n",
    "    \n",
    "    # Realizando previsões\n",
    "    y_test_pred = modelo_.predict(x_teste)\n",
    "    \n",
    "    # Gerando report do modelo\n",
    "    report_modelo(modelo_, y_teste, y_test_pred) \n",
    "    \n",
    "    # Salvando resultados em dataframe caso solicitado\n",
    "    if salvar_resultados:\n",
    "        resultados_df = pd.DataFrame(grid.cv_results_)\n",
    "        \n",
    "        if retorna_modelo:\n",
    "            return resultados_df, modelo_\n",
    "        else:\n",
    "            resultados_df\n",
    "        \n",
    "    if retorna_modelo:\n",
    "        return modelo_"
   ]
  },
  {
   "cell_type": "markdown",
   "metadata": {},
   "source": [
    "**Treinando com o CatBoostClassifier**"
   ]
  },
  {
   "cell_type": "code",
   "execution_count": null,
   "metadata": {},
   "outputs": [],
   "source": [
    "#o codigo abaixo é para treinar o modelo CatBoostClassifier\n",
    "%%time\n",
    "\n",
    "params = {}\n",
    "\n",
    "# Modelo Base CatBoost Classifier\n",
    "modelo_cat = CatBoostClassifier(iterations = 50, eval_metric = 'MultiClass', metric_period = 50,\\\n",
    "                                learning_rate = 0.01, verbose = False, random_seed = seed_)\n",
    "\n",
    "treinaClassificacao_GridSearchCV(modelo_cat, params, X_train_tfidf, y_train, X_test_tfidf, y_test)"
   ]
  },
  {
   "cell_type": "markdown",
   "metadata": {},
   "source": [
    "**Tunning do Catboost**"
   ]
  },
  {
   "cell_type": "code",
   "execution_count": null,
   "metadata": {},
   "outputs": [],
   "source": [
    "%%time\n",
    "\n",
    "params = {\n",
    "    'iterations': [50, 100, 500, 1000],\n",
    "    'learning_rate': [0.1, 0.01, 0.001]\n",
    "}\n",
    "\n",
    "# Tuning 01 Catboost\n",
    "modelo_cat = CatBoostClassifier(eval_metric = 'MultiClass', metric_period = 50,\\\n",
    "                                verbose = False, random_seed = seed_)\n",
    "\n",
    "treinaClassificacao_GridSearchCV(modelo_cat, params, X_train_tfidf, y_train, X_test_tfidf, y_test)"
   ]
  },
  {
   "cell_type": "code",
   "execution_count": null,
   "metadata": {},
   "outputs": [],
   "source": [
    "%%time\n",
    "\n",
    "params = {\n",
    "    'iterations': [750, 1000, 1250],\n",
    "    'learning_rate': [0.2, 0.1, 0.01]\n",
    "}\n",
    "\n",
    "# Tuning 02 Catboost\n",
    "modelo_cat = CatBoostClassifier(eval_metric = 'MultiClass', metric_period = 50,\\\n",
    "                                verbose = False, random_seed = seed_)\n",
    "\n",
    "treinaClassificacao_GridSearchCV(modelo_cat, params, X_train_tfidf, y_train, X_test_tfidf, y_test)"
   ]
  },
  {
   "cell_type": "code",
   "execution_count": null,
   "metadata": {},
   "outputs": [],
   "source": [
    "%%time\n",
    "\n",
    "params = {\n",
    "    'iterations': [1250, 1500, 2000],\n",
    "    'learning_rate': [0,4, 0.3, 0.2]\n",
    "}\n",
    "\n",
    "# Tuning 03 Catboost\n",
    "modelo_cat = CatBoostClassifier(eval_metric = 'MultiClass', metric_period = 50,\\\n",
    "                                verbose = False, random_seed = seed_)\n",
    "\n",
    "treinaClassificacao_GridSearchCV(modelo_cat, params, X_train_tfidf, y_train, X_test_tfidf, y_test)"
   ]
  },
  {
   "cell_type": "code",
   "execution_count": null,
   "metadata": {},
   "outputs": [],
   "source": [
    "%%time\n",
    "\n",
    "params = {\n",
    "    'iterations': [1250],\n",
    "    'learning_rate': [0.2],\n",
    "    'depth': [6, 7, 8]\n",
    "}\n",
    "\n",
    "# Tuning 04 Catboost\n",
    "modelo_cat = CatBoostClassifier(eval_metric = 'MultiClass', metric_period = 50,\\\n",
    "                                verbose = False, random_seed = seed_)\n",
    "\n",
    "treinaClassificacao_GridSearchCV(modelo_cat, params, X_train_tfidf, y_train, X_test_tfidf, y_test)"
   ]
  },
  {
   "cell_type": "markdown",
   "metadata": {},
   "source": [
    "**Salvando o Modelo**"
   ]
  },
  {
   "cell_type": "code",
   "execution_count": null,
   "metadata": {},
   "outputs": [],
   "source": [
    "%%time\n",
    "\n",
    "params = {}\n",
    "\n",
    "# Tuning 03 Catboost\n",
    "modelo_cat = CatBoostClassifier(iterations = 1250, learning_rate = 0.2, eval_metric = 'MultiClass',\\\n",
    "                                metric_period = 50, verbose = False, random_seed = seed_)\n",
    "\n",
    "modelo_cat = treinaClassificacao_GridSearchCV(modelo_cat, params, X_train_tfidf, y_train,\\\n",
    "                                              X_test_tfidf, y_test, retorna_modelo = True)"
   ]
  },
  {
   "cell_type": "code",
   "execution_count": 2,
   "metadata": {},
   "outputs": [
    {
     "ename": "NameError",
     "evalue": "name 'modelo_cat' is not defined",
     "output_type": "error",
     "traceback": [
      "\u001b[1;31m---------------------------------------------------------------------------\u001b[0m",
      "\u001b[1;31mNameError\u001b[0m                                 Traceback (most recent call last)",
      "\u001b[1;32mUntitled-1.ipynb Cell 21\u001b[0m line \u001b[0;36m1\n\u001b[1;32m----> <a href='vscode-notebook-cell:Untitled-1.ipynb?jupyter-notebook#X30sdW50aXRsZWQ%3D?line=0'>1</a>\u001b[0m modelo_cat\u001b[39m.\u001b[39msave_model(\u001b[39m'\u001b[39m\u001b[39mmodels/catboost.model\u001b[39m\u001b[39m'\u001b[39m)\n",
      "\u001b[1;31mNameError\u001b[0m: name 'modelo_cat' is not defined"
     ]
    }
   ],
   "source": [
    "modelo_cat.save_model('models/catboost.model')\n",
    "\n",
    "#Salvando modelo como pickle\n",
    "with open('models/catboost.pkl', 'wb') as model_file:\n",
    "    pickle.dump(modelo_cat, model_file)"
   ]
  }
 ],
 "metadata": {
  "kernelspec": {
   "display_name": "Python 3",
   "language": "python",
   "name": "python3"
  },
  "language_info": {
   "codemirror_mode": {
    "name": "ipython",
    "version": 3
   },
   "file_extension": ".py",
   "mimetype": "text/x-python",
   "name": "python",
   "nbconvert_exporter": "python",
   "pygments_lexer": "ipython3",
   "version": "3.10.12"
  }
 },
 "nbformat": 4,
 "nbformat_minor": 2
}
