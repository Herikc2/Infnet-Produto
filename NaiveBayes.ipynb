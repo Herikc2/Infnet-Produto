{
 "cells": [
  {
   "cell_type": "code",
   "execution_count": 1,
   "id": "781ec996",
   "metadata": {},
   "outputs": [
    {
     "name": "stderr",
     "output_type": "stream",
     "text": [
      "C:\\Users\\herik\\anaconda3\\lib\\site-packages\\numpy\\_distributor_init.py:30: UserWarning: loaded more than 1 DLL from .libs:\n",
      "C:\\Users\\herik\\anaconda3\\lib\\site-packages\\numpy\\.libs\\libopenblas.4SP5SUA7CBGXUEOC35YP2ASOICYYEQZZ.gfortran-win_amd64.dll\n",
      "C:\\Users\\herik\\anaconda3\\lib\\site-packages\\numpy\\.libs\\libopenblas64__v0.3.21-gcc_10_3_0.dll\n",
      "  warnings.warn(\"loaded more than 1 DLL from .libs:\"\n"
     ]
    }
   ],
   "source": [
    "import pandas as pd\n",
    "import numpy as np\n",
    "import seaborn as sns\n",
    "import pickle\n",
    "import matplotlib.pyplot as plt\n",
    "\n",
    "from sklearn.model_selection import train_test_split\n",
    "from sklearn.feature_extraction.text import CountVectorizer\n",
    "from sklearn.naive_bayes import MultinomialNB\n",
    "from sklearn.metrics import accuracy_score\n",
    "from nltk import bigrams\n",
    "from nltk.tokenize import word_tokenize\n",
    "from sklearn.model_selection import train_test_split, GridSearchCV\n",
    "from sklearn import metrics\n",
    "from sklearn.metrics import accuracy_score\n",
    "from sklearn.metrics import confusion_matrix, classification_report"
   ]
  },
  {
   "cell_type": "markdown",
   "id": "58e21335",
   "metadata": {},
   "source": [
    "## Ambiente"
   ]
  },
  {
   "cell_type": "code",
   "execution_count": 2,
   "id": "11943e8f",
   "metadata": {},
   "outputs": [],
   "source": [
    "seed_ = 194\n",
    "np.random.seed(seed_)"
   ]
  },
  {
   "cell_type": "markdown",
   "id": "dc87ced4",
   "metadata": {},
   "source": [
    "## Carregando e tratando base de dados"
   ]
  },
  {
   "cell_type": "code",
   "execution_count": 3,
   "id": "a86de066",
   "metadata": {},
   "outputs": [],
   "source": [
    "df = pd.read_csv('data/df_sem_duplicatas.csv')"
   ]
  },
  {
   "cell_type": "code",
   "execution_count": 4,
   "id": "3a1dc832",
   "metadata": {},
   "outputs": [
    {
     "data": {
      "text/html": [
       "<div>\n",
       "<style scoped>\n",
       "    .dataframe tbody tr th:only-of-type {\n",
       "        vertical-align: middle;\n",
       "    }\n",
       "\n",
       "    .dataframe tbody tr th {\n",
       "        vertical-align: top;\n",
       "    }\n",
       "\n",
       "    .dataframe thead th {\n",
       "        text-align: right;\n",
       "    }\n",
       "</style>\n",
       "<table border=\"1\" class=\"dataframe\">\n",
       "  <thead>\n",
       "    <tr style=\"text-align: right;\">\n",
       "      <th></th>\n",
       "      <th>descricao</th>\n",
       "      <th>categoria</th>\n",
       "    </tr>\n",
       "  </thead>\n",
       "  <tbody>\n",
       "    <tr>\n",
       "      <th>0</th>\n",
       "      <td>caneta bic cristal</td>\n",
       "      <td>Papelaria</td>\n",
       "    </tr>\n",
       "    <tr>\n",
       "      <th>1</th>\n",
       "      <td>caneta bps pilot</td>\n",
       "      <td>Papelaria</td>\n",
       "    </tr>\n",
       "    <tr>\n",
       "      <th>2</th>\n",
       "      <td>caneta marcador permanente acrilex ponta dupla</td>\n",
       "      <td>Papelaria</td>\n",
       "    </tr>\n",
       "    <tr>\n",
       "      <th>3</th>\n",
       "      <td>caneta retocar madeira branco corcel</td>\n",
       "      <td>Papelaria</td>\n",
       "    </tr>\n",
       "    <tr>\n",
       "      <th>4</th>\n",
       "      <td>caneta retroprojetor manter fazer castelo pont...</td>\n",
       "      <td>Papelaria</td>\n",
       "    </tr>\n",
       "  </tbody>\n",
       "</table>\n",
       "</div>"
      ],
      "text/plain": [
       "                                           descricao  categoria\n",
       "0                                 caneta bic cristal  Papelaria\n",
       "1                                   caneta bps pilot  Papelaria\n",
       "2     caneta marcador permanente acrilex ponta dupla  Papelaria\n",
       "3               caneta retocar madeira branco corcel  Papelaria\n",
       "4  caneta retroprojetor manter fazer castelo pont...  Papelaria"
      ]
     },
     "execution_count": 4,
     "metadata": {},
     "output_type": "execute_result"
    }
   ],
   "source": [
    "df.head()"
   ]
  },
  {
   "cell_type": "code",
   "execution_count": 5,
   "id": "632e07f5",
   "metadata": {},
   "outputs": [],
   "source": [
    "# Carregando LabelEncoder model\n",
    "pkl_file = open('models/label_encoder.pkl', 'rb')\n",
    "le = pickle.load(pkl_file) \n",
    "pkl_file.close()"
   ]
  },
  {
   "cell_type": "code",
   "execution_count": 6,
   "id": "2f7c6c9d",
   "metadata": {},
   "outputs": [],
   "source": [
    "le.fit(df['categoria'])\n",
    "df['categoria'] = le.transform(df['categoria'])"
   ]
  },
  {
   "cell_type": "code",
   "execution_count": 7,
   "id": "7c880fc6",
   "metadata": {},
   "outputs": [],
   "source": [
    "# Salvando LabelEncoder model\n",
    "\n",
    "#output = open('models/label_encoder.pkl', 'wb')\n",
    "#pickle.dump(le, output)\n",
    "#output.close()"
   ]
  },
  {
   "cell_type": "code",
   "execution_count": 8,
   "id": "8e4b6089",
   "metadata": {},
   "outputs": [],
   "source": [
    "# Capturando targets gerados pelo LabelEncoder\n",
    "target_names = le.classes_"
   ]
  },
  {
   "cell_type": "code",
   "execution_count": 9,
   "id": "f6d56386",
   "metadata": {},
   "outputs": [
    {
     "data": {
      "text/html": [
       "<div>\n",
       "<style scoped>\n",
       "    .dataframe tbody tr th:only-of-type {\n",
       "        vertical-align: middle;\n",
       "    }\n",
       "\n",
       "    .dataframe tbody tr th {\n",
       "        vertical-align: top;\n",
       "    }\n",
       "\n",
       "    .dataframe thead th {\n",
       "        text-align: right;\n",
       "    }\n",
       "</style>\n",
       "<table border=\"1\" class=\"dataframe\">\n",
       "  <thead>\n",
       "    <tr style=\"text-align: right;\">\n",
       "      <th></th>\n",
       "      <th>descricao</th>\n",
       "      <th>categoria</th>\n",
       "    </tr>\n",
       "  </thead>\n",
       "  <tbody>\n",
       "    <tr>\n",
       "      <th>0</th>\n",
       "      <td>caneta bic cristal</td>\n",
       "      <td>3</td>\n",
       "    </tr>\n",
       "    <tr>\n",
       "      <th>1</th>\n",
       "      <td>caneta bps pilot</td>\n",
       "      <td>3</td>\n",
       "    </tr>\n",
       "    <tr>\n",
       "      <th>2</th>\n",
       "      <td>caneta marcador permanente acrilex ponta dupla</td>\n",
       "      <td>3</td>\n",
       "    </tr>\n",
       "    <tr>\n",
       "      <th>3</th>\n",
       "      <td>caneta retocar madeira branco corcel</td>\n",
       "      <td>3</td>\n",
       "    </tr>\n",
       "    <tr>\n",
       "      <th>4</th>\n",
       "      <td>caneta retroprojetor manter fazer castelo pont...</td>\n",
       "      <td>3</td>\n",
       "    </tr>\n",
       "  </tbody>\n",
       "</table>\n",
       "</div>"
      ],
      "text/plain": [
       "                                           descricao  categoria\n",
       "0                                 caneta bic cristal          3\n",
       "1                                   caneta bps pilot          3\n",
       "2     caneta marcador permanente acrilex ponta dupla          3\n",
       "3               caneta retocar madeira branco corcel          3\n",
       "4  caneta retroprojetor manter fazer castelo pont...          3"
      ]
     },
     "execution_count": 9,
     "metadata": {},
     "output_type": "execute_result"
    }
   ],
   "source": [
    "df.head()"
   ]
  },
  {
   "cell_type": "markdown",
   "id": "51092bea",
   "metadata": {},
   "source": [
    "## Separando em treino/teste e vetorizando por bigram"
   ]
  },
  {
   "cell_type": "code",
   "execution_count": 10,
   "id": "e91d9486",
   "metadata": {},
   "outputs": [],
   "source": [
    "# Separa em treino e teste\n",
    "X = df['descricao']\n",
    "y = df['categoria']\n",
    "\n",
    "X_train, X_test, y_train, y_test = train_test_split(X, y, test_size = 0.2, random_state = seed_)"
   ]
  },
  {
   "cell_type": "code",
   "execution_count": 11,
   "id": "505cdb53",
   "metadata": {},
   "outputs": [],
   "source": [
    "# Realiza contagem de token com bigram\n",
    "vectorizer = CountVectorizer(ngram_range = (2, 2))\n",
    "X_train_vec = vectorizer.fit_transform(X_train)\n",
    "X_test_vec = vectorizer.transform(X_test)"
   ]
  },
  {
   "cell_type": "markdown",
   "id": "7d35a3ed",
   "metadata": {},
   "source": [
    "# Modelagem Naive Bayes"
   ]
  },
  {
   "cell_type": "code",
   "execution_count": 12,
   "id": "a9933f7e",
   "metadata": {},
   "outputs": [],
   "source": [
    "def report_modelo(modelo, y, pred):\n",
    "    print(\"Acurácia: %f\" % accuracy_score(y_true = y, y_pred = pred))\n",
    "    \n",
    "    # Plotando a matriz de confusão\n",
    "    cm = confusion_matrix(y, pred)\n",
    "    cm = pd.DataFrame(cm, index = target_names, columns = target_names)\n",
    "\n",
    "    plt.figure(figsize = (8, 8))\n",
    "    sns.heatmap(cm, cmap = \"Blues\", linecolor = 'black', linewidths = 1, annot = True, \\\n",
    "                fmt = '', xticklabels = target_names, yticklabels = target_names)\n",
    "    plt.show()\n",
    "    \n",
    "    # Imprimindo métricas\n",
    "    print(classification_report(y_true = y, y_pred = pred, target_names= target_names))"
   ]
  },
  {
   "cell_type": "code",
   "execution_count": 13,
   "id": "337bb3b6",
   "metadata": {},
   "outputs": [],
   "source": [
    "def treinaClassificacao_GridSearchCV(modelo, params_, x_treino, y_treino, x_teste, y_teste,\\\n",
    "                        n_jobs = -1, cv = 5, refit = True, scoring = None, salvar_resultados = False,\\\n",
    "                       report_treino = False, retorna_modelo = False):\n",
    "    \n",
    "    # Realizando treinamento baseado no grid informado\n",
    "    grid = GridSearchCV(modelo, params_, n_jobs = n_jobs, cv = cv, refit = refit, scoring = scoring)\n",
    "    \n",
    "    grid.fit(x_treino, y_treino)\n",
    "    pred = grid.predict(x_teste)\n",
    "    modelo_ = grid.best_estimator_\n",
    "\n",
    "    print(grid.best_params_)\n",
    "    \n",
    "    # Realizando previsões\n",
    "    y_test_pred = modelo_.predict(x_teste)\n",
    "    \n",
    "    # Gerando report do modelo\n",
    "    report_modelo(modelo_, y_teste, y_test_pred) \n",
    "    \n",
    "    # Salvando resultados em dataframe caso solicitado\n",
    "    if salvar_resultados:\n",
    "        resultados_df = pd.DataFrame(grid.cv_results_)\n",
    "        \n",
    "        if retorna_modelo:\n",
    "            return resultados_df, modelo_\n",
    "        else:\n",
    "            resultados_df\n",
    "        \n",
    "    if retorna_modelo:\n",
    "        return modelo_"
   ]
  },
  {
   "cell_type": "markdown",
   "id": "c8465605",
   "metadata": {},
   "source": [
    "## Molelo Base Naive Bayes Bigram"
   ]
  },
  {
   "cell_type": "code",
   "execution_count": 14,
   "id": "694ac0d0",
   "metadata": {},
   "outputs": [
    {
     "data": {
      "text/plain": [
       "MultinomialNB()"
      ]
     },
     "execution_count": 14,
     "metadata": {},
     "output_type": "execute_result"
    }
   ],
   "source": [
    "# Instancia modelo base\n",
    "nb_classifier = MultinomialNB()\n",
    "nb_classifier.fit(X_train_vec, y_train)"
   ]
  },
  {
   "cell_type": "code",
   "execution_count": 15,
   "id": "0043178a",
   "metadata": {},
   "outputs": [
    {
     "name": "stdout",
     "output_type": "stream",
     "text": [
      "Acurácia: 0.889552\n"
     ]
    },
    {
     "data": {
      "image/png": "[encoded data removed]",
      "text/plain": [
       "<Figure size 576x576 with 2 Axes>"
      ]
     },
     "metadata": {
      "needs_background": "light"
     },
     "output_type": "display_data"
    },
    {
     "name": "stdout",
     "output_type": "stream",
     "text": [
      "              precision    recall  f1-score   support\n",
      "\n",
      "   Embalagem       0.95      0.88      0.91       301\n",
      "         Epi       0.94      0.89      0.91       247\n",
      "  Hidráulico       0.94      0.79      0.86       153\n",
      "   Papelaria       0.80      0.95      0.87       304\n",
      "\n",
      "    accuracy                           0.89      1005\n",
      "   macro avg       0.90      0.88      0.89      1005\n",
      "weighted avg       0.90      0.89      0.89      1005\n",
      "\n"
     ]
    }
   ],
   "source": [
    "# Realiza previsões e imprime report\n",
    "y_pred = nb_classifier.predict(X_test_vec)\n",
    "report_modelo(nb_classifier, y_test, y_pred) "
   ]
  },
  {
   "cell_type": "markdown",
   "id": "69313853",
   "metadata": {},
   "source": [
    "## Tuning Naive Bayes Bigram"
   ]
  },
  {
   "cell_type": "code",
   "execution_count": 16,
   "id": "45b3fe24",
   "metadata": {},
   "outputs": [
    {
     "name": "stdout",
     "output_type": "stream",
     "text": [
      "{'alpha': 0.0, 'fit_prior': True}\n",
      "Acurácia: 0.888557\n"
     ]
    },
    {
     "name": "stderr",
     "output_type": "stream",
     "text": [
      "C:\\Users\\herik\\anaconda3\\lib\\site-packages\\sklearn\\naive_bayes.py:555: UserWarning: alpha too small will result in numeric errors, setting alpha = 1.0e-10\n",
      "  warnings.warn(\n"
     ]
    },
    {
     "data": {
      "image/png": "[encoded data removed]",
      "text/plain": [
       "<Figure size 576x576 with 2 Axes>"
      ]
     },
     "metadata": {
      "needs_background": "light"
     },
     "output_type": "display_data"
    },
    {
     "name": "stdout",
     "output_type": "stream",
     "text": [
      "              precision    recall  f1-score   support\n",
      "\n",
      "   Embalagem       0.94      0.87      0.91       301\n",
      "         Epi       0.95      0.89      0.92       247\n",
      "  Hidráulico       0.93      0.80      0.86       153\n",
      "   Papelaria       0.79      0.95      0.86       304\n",
      "\n",
      "    accuracy                           0.89      1005\n",
      "   macro avg       0.90      0.88      0.89      1005\n",
      "weighted avg       0.90      0.89      0.89      1005\n",
      "\n",
      "CPU times: total: 2.83 s\n",
      "Wall time: 8.75 s\n"
     ]
    }
   ],
   "source": [
    "%%time\n",
    "\n",
    "params = {\n",
    "    'alpha': [i * 0.001 for i in range(1000)],\n",
    "    'fit_prior': [True, False]\n",
    "}\n",
    "\n",
    "# Tuning Naibe Nayes\n",
    "modelo_nb = MultinomialNB()\n",
    "\n",
    "modelo_nb = treinaClassificacao_GridSearchCV(modelo_nb, params, X_train_vec, y_train,\\\n",
    "                                              X_test_vec, y_test)"
   ]
  },
  {
   "cell_type": "code",
   "execution_count": 17,
   "id": "3b6e32fa",
   "metadata": {},
   "outputs": [],
   "source": [
    "# Salvando modelo como pickle\n",
    "with open('models/naive_bayes_bigram.pkl', 'wb') as model_file:\n",
    "    pickle.dump(nb_classifier, model_file)"
   ]
  },
  {
   "cell_type": "markdown",
   "id": "fae445de",
   "metadata": {},
   "source": [
    "## Vetorizando por Trigram"
   ]
  },
  {
   "cell_type": "code",
   "execution_count": 18,
   "id": "860e249c",
   "metadata": {},
   "outputs": [],
   "source": [
    "# Realiza contagem de token com trigram\n",
    "vectorizer = CountVectorizer(ngram_range = (3, 3))\n",
    "X_train_vec = vectorizer.fit_transform(X_train)\n",
    "X_test_vec = vectorizer.transform(X_test)"
   ]
  },
  {
   "cell_type": "markdown",
   "id": "18422532",
   "metadata": {},
   "source": [
    "## Molelo Base Naive Bayes Trigram"
   ]
  },
  {
   "cell_type": "code",
   "execution_count": 19,
   "id": "5f0af7a7",
   "metadata": {},
   "outputs": [
    {
     "data": {
      "text/plain": [
       "MultinomialNB()"
      ]
     },
     "execution_count": 19,
     "metadata": {},
     "output_type": "execute_result"
    }
   ],
   "source": [
    "# Instancia modelo base\n",
    "nb_classifier = MultinomialNB()\n",
    "nb_classifier.fit(X_train_vec, y_train)"
   ]
  },
  {
   "cell_type": "code",
   "execution_count": 20,
   "id": "8eac7103",
   "metadata": {},
   "outputs": [
    {
     "name": "stdout",
     "output_type": "stream",
     "text": [
      "Acurácia: 0.745274\n"
     ]
    },
    {
     "data": {
      "image/png": "[encoded data removed]",
      "text/plain": [
       "<Figure size 576x576 with 2 Axes>"
      ]
     },
     "metadata": {
      "needs_background": "light"
     },
     "output_type": "display_data"
    },
    {
     "name": "stdout",
     "output_type": "stream",
     "text": [
      "              precision    recall  f1-score   support\n",
      "\n",
      "   Embalagem       0.98      0.71      0.82       301\n",
      "         Epi       0.96      0.64      0.77       247\n",
      "  Hidráulico       0.98      0.54      0.69       153\n",
      "   Papelaria       0.55      0.98      0.70       304\n",
      "\n",
      "    accuracy                           0.75      1005\n",
      "   macro avg       0.87      0.71      0.75      1005\n",
      "weighted avg       0.84      0.75      0.75      1005\n",
      "\n"
     ]
    }
   ],
   "source": [
    "# Realiza previsões e imprime report\n",
    "y_pred = nb_classifier.predict(X_test_vec)\n",
    "report_modelo(nb_classifier, y_test, y_pred) "
   ]
  },
  {
   "cell_type": "markdown",
   "id": "d1958149",
   "metadata": {},
   "source": [
    "## Tuning Naive Bayes Trigram"
   ]
  },
  {
   "cell_type": "code",
   "execution_count": 21,
   "id": "ef3d31e3",
   "metadata": {},
   "outputs": [
    {
     "name": "stdout",
     "output_type": "stream",
     "text": [
      "{'alpha': 0.0, 'fit_prior': True}\n",
      "Acurácia: 0.755224\n"
     ]
    },
    {
     "name": "stderr",
     "output_type": "stream",
     "text": [
      "C:\\Users\\herik\\anaconda3\\lib\\site-packages\\sklearn\\naive_bayes.py:555: UserWarning: alpha too small will result in numeric errors, setting alpha = 1.0e-10\n",
      "  warnings.warn(\n"
     ]
    },
    {
     "data": {
      "image/png": "[encoded data removed]",
      "text/plain": [
       "<Figure size 576x576 with 2 Axes>"
      ]
     },
     "metadata": {
      "needs_background": "light"
     },
     "output_type": "display_data"
    },
    {
     "name": "stdout",
     "output_type": "stream",
     "text": [
      "              precision    recall  f1-score   support\n",
      "\n",
      "   Embalagem       0.97      0.71      0.82       301\n",
      "         Epi       0.97      0.64      0.77       247\n",
      "  Hidráulico       0.97      0.59      0.73       153\n",
      "   Papelaria       0.56      0.98      0.71       304\n",
      "\n",
      "    accuracy                           0.76      1005\n",
      "   macro avg       0.87      0.73      0.76      1005\n",
      "weighted avg       0.85      0.76      0.76      1005\n",
      "\n",
      "CPU times: total: 2.56 s\n",
      "Wall time: 3.85 s\n"
     ]
    }
   ],
   "source": [
    "%%time\n",
    "\n",
    "params = {\n",
    "    'alpha': [i * 0.001 for i in range(1000)],\n",
    "    'fit_prior': [True, False]\n",
    "}\n",
    "\n",
    "# Tuning Naibe Nayes\n",
    "modelo_nb = MultinomialNB()\n",
    "\n",
    "modelo_nb = treinaClassificacao_GridSearchCV(modelo_nb, params, X_train_vec, y_train,\\\n",
    "                                              X_test_vec, y_test)"
   ]
  },
  {
   "cell_type": "code",
   "execution_count": 22,
   "id": "665d8f2e",
   "metadata": {},
   "outputs": [],
   "source": [
    "# Salvando modelo como pickle\n",
    "with open('models/naive_bayes_trigram.pkl', 'wb') as model_file:\n",
    "    pickle.dump(nb_classifier, model_file)"
   ]
  },
  {
   "cell_type": "markdown",
   "id": "99cd0f33",
   "metadata": {},
   "source": [
    "## Vetorizando por Texto"
   ]
  },
  {
   "cell_type": "code",
   "execution_count": 23,
   "id": "60e15a72",
   "metadata": {},
   "outputs": [],
   "source": [
    "# Realiza contagem de token com trigram\n",
    "vectorizer = CountVectorizer()\n",
    "X_train_vec = vectorizer.fit_transform(X_train)\n",
    "X_test_vec = vectorizer.transform(X_test)"
   ]
  },
  {
   "cell_type": "markdown",
   "id": "cd18fade",
   "metadata": {},
   "source": [
    "## Molelo Base Naive Bayes"
   ]
  },
  {
   "cell_type": "code",
   "execution_count": 24,
   "id": "13a36bbf",
   "metadata": {},
   "outputs": [
    {
     "data": {
      "text/plain": [
       "MultinomialNB()"
      ]
     },
     "execution_count": 24,
     "metadata": {},
     "output_type": "execute_result"
    }
   ],
   "source": [
    "# Instancia modelo base\n",
    "nb_classifier = MultinomialNB()\n",
    "nb_classifier.fit(X_train_vec, y_train)"
   ]
  },
  {
   "cell_type": "code",
   "execution_count": 25,
   "id": "8e01696f",
   "metadata": {},
   "outputs": [
    {
     "name": "stdout",
     "output_type": "stream",
     "text": [
      "Acurácia: 0.896517\n"
     ]
    },
    {
     "data": {
      "image/png": "[encoded data removed]",
      "text/plain": [
       "<Figure size 576x576 with 2 Axes>"
      ]
     },
     "metadata": {
      "needs_background": "light"
     },
     "output_type": "display_data"
    },
    {
     "name": "stdout",
     "output_type": "stream",
     "text": [
      "              precision    recall  f1-score   support\n",
      "\n",
      "   Embalagem       0.96      0.78      0.86       301\n",
      "         Epi       0.91      0.98      0.95       247\n",
      "  Hidráulico       0.97      0.85      0.91       153\n",
      "   Papelaria       0.82      0.97      0.89       304\n",
      "\n",
      "    accuracy                           0.90      1005\n",
      "   macro avg       0.91      0.89      0.90      1005\n",
      "weighted avg       0.91      0.90      0.90      1005\n",
      "\n"
     ]
    }
   ],
   "source": [
    "# Realiza previsões e imprime report\n",
    "y_pred = nb_classifier.predict(X_test_vec)\n",
    "report_modelo(nb_classifier, y_test, y_pred) "
   ]
  },
  {
   "cell_type": "markdown",
   "id": "50bfa764",
   "metadata": {},
   "source": [
    "## Tuning Naive Bayes"
   ]
  },
  {
   "cell_type": "code",
   "execution_count": 26,
   "id": "0db609d7",
   "metadata": {},
   "outputs": [
    {
     "name": "stdout",
     "output_type": "stream",
     "text": [
      "{'alpha': 0.002, 'fit_prior': False}\n",
      "Acurácia: 0.911443\n"
     ]
    },
    {
     "data": {
      "image/png": "[encoded data removed]",
      "text/plain": [
       "<Figure size 576x576 with 2 Axes>"
      ]
     },
     "metadata": {
      "needs_background": "light"
     },
     "output_type": "display_data"
    },
    {
     "name": "stdout",
     "output_type": "stream",
     "text": [
      "              precision    recall  f1-score   support\n",
      "\n",
      "   Embalagem       0.94      0.83      0.88       301\n",
      "         Epi       0.95      0.96      0.95       247\n",
      "  Hidráulico       0.93      0.92      0.93       153\n",
      "   Papelaria       0.85      0.95      0.90       304\n",
      "\n",
      "    accuracy                           0.91      1005\n",
      "   macro avg       0.92      0.91      0.92      1005\n",
      "weighted avg       0.91      0.91      0.91      1005\n",
      "\n",
      "CPU times: total: 2.11 s\n",
      "Wall time: 2.35 s\n"
     ]
    }
   ],
   "source": [
    "%%time\n",
    "\n",
    "params = {\n",
    "    'alpha': [i * 0.001 for i in range(1000)],\n",
    "    'fit_prior': [True, False]\n",
    "}\n",
    "\n",
    "# Tuning Naibe Nayes\n",
    "modelo_nb = MultinomialNB()\n",
    "\n",
    "modelo_nb = treinaClassificacao_GridSearchCV(modelo_nb, params, X_train_vec, y_train,\\\n",
    "                                              X_test_vec, y_test)"
   ]
  },
  {
   "cell_type": "code",
   "execution_count": 27,
   "id": "b75d99cc",
   "metadata": {},
   "outputs": [],
   "source": [
    "# Salvando modelo como pickle\n",
    "with open('models/naive_bayes.pkl', 'wb') as model_file:\n",
    "    pickle.dump(nb_classifier, model_file)"
   ]
  },
  {
   "cell_type": "code",
   "execution_count": 28,
   "id": "1e83d3aa",
   "metadata": {},
   "outputs": [],
   "source": [
    "# Salvando count vectorizer como pickle\n",
    "with open('models/countvectorizer_naive_bayes.pkl', 'wb') as model_file:\n",
    "    pickle.dump(vectorizer, model_file)"
   ]
  },
  {
   "cell_type": "code",
   "execution_count": null,
   "id": "fe15f794",
   "metadata": {},
   "outputs": [],
   "source": []
  },
  {
   "cell_type": "code",
   "execution_count": null,
   "id": "6c55f797",
   "metadata": {},
   "outputs": [],
   "source": []
  },
  {
   "cell_type": "code",
   "execution_count": null,
   "id": "b122a6d2",
   "metadata": {},
   "outputs": [],
   "source": []
  },
  {
   "cell_type": "code",
   "execution_count": null,
   "id": "ca429461",
   "metadata": {},
   "outputs": [],
   "source": []
  },
  {
   "cell_type": "code",
   "execution_count": null,
   "id": "dc725361",
   "metadata": {},
   "outputs": [],
   "source": []
  },
  {
   "cell_type": "code",
   "execution_count": null,
   "id": "54f6bc35",
   "metadata": {},
   "outputs": [],
   "source": []
  },
  {
   "cell_type": "code",
   "execution_count": null,
   "id": "f52151a5",
   "metadata": {},
   "outputs": [],
   "source": []
  }
 ],
 "metadata": {
  "kernelspec": {
   "display_name": "Python 3 (ipykernel)",
   "language": "python",
   "name": "python3"
  },
  "language_info": {
   "codemirror_mode": {
    "name": "ipython",
    "version": 3
   },
   "file_extension": ".py",
   "mimetype": "text/x-python",
   "name": "python",
   "nbconvert_exporter": "python",
   "pygments_lexer": "ipython3",
   "version": "3.9.12"
  }
 },
 "nbformat": 4,
 "nbformat_minor": 5
}
