{
 "cells": [
  {
   "cell_type": "code",
   "execution_count": 1,
   "id": "781ec996",
   "metadata": {},
   "outputs": [
    {
     "name": "stderr",
     "output_type": "stream",
     "text": [
      "C:\\Users\\herik\\anaconda3\\lib\\site-packages\\numpy\\_distributor_init.py:30: UserWarning: loaded more than 1 DLL from .libs:\n",
      "C:\\Users\\herik\\anaconda3\\lib\\site-packages\\numpy\\.libs\\libopenblas.4SP5SUA7CBGXUEOC35YP2ASOICYYEQZZ.gfortran-win_amd64.dll\n",
      "C:\\Users\\herik\\anaconda3\\lib\\site-packages\\numpy\\.libs\\libopenblas64__v0.3.21-gcc_10_3_0.dll\n",
      "  warnings.warn(\"loaded more than 1 DLL from .libs:\"\n"
     ]
    }
   ],
   "source": [
    "import pandas as pd\n",
    "import numpy as np\n",
    "import seaborn as sns\n",
    "import pickle\n",
    "import matplotlib.pyplot as plt\n",
    "\n",
    "from sklearn.model_selection import train_test_split\n",
    "from sklearn.feature_extraction.text import CountVectorizer\n",
    "from sklearn.naive_bayes import MultinomialNB\n",
    "from sklearn.metrics import accuracy_score\n",
    "from nltk import bigrams\n",
    "from nltk.tokenize import word_tokenize\n",
    "from sklearn.model_selection import train_test_split, GridSearchCV\n",
    "from sklearn import metrics\n",
    "from sklearn.metrics import accuracy_score\n",
    "from sklearn.metrics import confusion_matrix, classification_report"
   ]
  },
  {
   "cell_type": "markdown",
   "id": "58e21335",
   "metadata": {},
   "source": [
    "## Ambiente"
   ]
  },
  {
   "cell_type": "code",
   "execution_count": 2,
   "id": "11943e8f",
   "metadata": {},
   "outputs": [],
   "source": [
    "seed_ = 194\n",
    "np.random.seed(seed_)"
   ]
  },
  {
   "cell_type": "markdown",
   "id": "dc87ced4",
   "metadata": {},
   "source": [
    "## Carregando e tratando base de dados"
   ]
  },
  {
   "cell_type": "code",
   "execution_count": 3,
   "id": "a86de066",
   "metadata": {},
   "outputs": [],
   "source": [
    "df = pd.read_csv('data/df_sem_duplicatas.csv')"
   ]
  },
  {
   "cell_type": "code",
   "execution_count": 4,
   "id": "3a1dc832",
   "metadata": {},
   "outputs": [
    {
     "data": {
      "text/html": [
       "<div>\n",
       "<style scoped>\n",
       "    .dataframe tbody tr th:only-of-type {\n",
       "        vertical-align: middle;\n",
       "    }\n",
       "\n",
       "    .dataframe tbody tr th {\n",
       "        vertical-align: top;\n",
       "    }\n",
       "\n",
       "    .dataframe thead th {\n",
       "        text-align: right;\n",
       "    }\n",
       "</style>\n",
       "<table border=\"1\" class=\"dataframe\">\n",
       "  <thead>\n",
       "    <tr style=\"text-align: right;\">\n",
       "      <th></th>\n",
       "      <th>descricao</th>\n",
       "      <th>categoria</th>\n",
       "    </tr>\n",
       "  </thead>\n",
       "  <tbody>\n",
       "    <tr>\n",
       "      <th>0</th>\n",
       "      <td>caneta bic cristal</td>\n",
       "      <td>Papelaria</td>\n",
       "    </tr>\n",
       "    <tr>\n",
       "      <th>1</th>\n",
       "      <td>caneta bps pilot</td>\n",
       "      <td>Papelaria</td>\n",
       "    </tr>\n",
       "    <tr>\n",
       "      <th>2</th>\n",
       "      <td>caneta marcador permanente acrilex ponta dupla</td>\n",
       "      <td>Papelaria</td>\n",
       "    </tr>\n",
       "    <tr>\n",
       "      <th>3</th>\n",
       "      <td>caneta retocar madeira branco corcel</td>\n",
       "      <td>Papelaria</td>\n",
       "    </tr>\n",
       "    <tr>\n",
       "      <th>4</th>\n",
       "      <td>caneta retroprojetor manter fazer castelo pont...</td>\n",
       "      <td>Papelaria</td>\n",
       "    </tr>\n",
       "  </tbody>\n",
       "</table>\n",
       "</div>"
      ],
      "text/plain": [
       "                                           descricao  categoria\n",
       "0                                 caneta bic cristal  Papelaria\n",
       "1                                   caneta bps pilot  Papelaria\n",
       "2     caneta marcador permanente acrilex ponta dupla  Papelaria\n",
       "3               caneta retocar madeira branco corcel  Papelaria\n",
       "4  caneta retroprojetor manter fazer castelo pont...  Papelaria"
      ]
     },
     "execution_count": 4,
     "metadata": {},
     "output_type": "execute_result"
    }
   ],
   "source": [
    "df.head()"
   ]
  },
  {
   "cell_type": "code",
   "execution_count": 5,
   "id": "632e07f5",
   "metadata": {},
   "outputs": [],
   "source": [
    "# Carregando LabelEncoder model\n",
    "pkl_file = open('models/label_encoder.pkl', 'rb')\n",
    "le = pickle.load(pkl_file) \n",
    "pkl_file.close()"
   ]
  },
  {
   "cell_type": "code",
   "execution_count": 6,
   "id": "2f7c6c9d",
   "metadata": {},
   "outputs": [],
   "source": [
    "le.fit(df['categoria'])\n",
    "df['categoria'] = le.transform(df['categoria'])"
   ]
  },
  {
   "cell_type": "code",
   "execution_count": 7,
   "id": "7c880fc6",
   "metadata": {},
   "outputs": [],
   "source": [
    "# Salvando LabelEncoder model\n",
    "\n",
    "#output = open('models/label_encoder.pkl', 'wb')\n",
    "#pickle.dump(le, output)\n",
    "#output.close()"
   ]
  },
  {
   "cell_type": "code",
   "execution_count": 8,
   "id": "8e4b6089",
   "metadata": {},
   "outputs": [],
   "source": [
    "# Capturando targets gerados pelo LabelEncoder\n",
    "target_names = le.classes_"
   ]
  },
  {
   "cell_type": "code",
   "execution_count": 9,
   "id": "f6d56386",
   "metadata": {},
   "outputs": [
    {
     "data": {
      "text/html": [
       "<div>\n",
       "<style scoped>\n",
       "    .dataframe tbody tr th:only-of-type {\n",
       "        vertical-align: middle;\n",
       "    }\n",
       "\n",
       "    .dataframe tbody tr th {\n",
       "        vertical-align: top;\n",
       "    }\n",
       "\n",
       "    .dataframe thead th {\n",
       "        text-align: right;\n",
       "    }\n",
       "</style>\n",
       "<table border=\"1\" class=\"dataframe\">\n",
       "  <thead>\n",
       "    <tr style=\"text-align: right;\">\n",
       "      <th></th>\n",
       "      <th>descricao</th>\n",
       "      <th>categoria</th>\n",
       "    </tr>\n",
       "  </thead>\n",
       "  <tbody>\n",
       "    <tr>\n",
       "      <th>0</th>\n",
       "      <td>caneta bic cristal</td>\n",
       "      <td>3</td>\n",
       "    </tr>\n",
       "    <tr>\n",
       "      <th>1</th>\n",
       "      <td>caneta bps pilot</td>\n",
       "      <td>3</td>\n",
       "    </tr>\n",
       "    <tr>\n",
       "      <th>2</th>\n",
       "      <td>caneta marcador permanente acrilex ponta dupla</td>\n",
       "      <td>3</td>\n",
       "    </tr>\n",
       "    <tr>\n",
       "      <th>3</th>\n",
       "      <td>caneta retocar madeira branco corcel</td>\n",
       "      <td>3</td>\n",
       "    </tr>\n",
       "    <tr>\n",
       "      <th>4</th>\n",
       "      <td>caneta retroprojetor manter fazer castelo pont...</td>\n",
       "      <td>3</td>\n",
       "    </tr>\n",
       "  </tbody>\n",
       "</table>\n",
       "</div>"
      ],
      "text/plain": [
       "                                           descricao  categoria\n",
       "0                                 caneta bic cristal          3\n",
       "1                                   caneta bps pilot          3\n",
       "2     caneta marcador permanente acrilex ponta dupla          3\n",
       "3               caneta retocar madeira branco corcel          3\n",
       "4  caneta retroprojetor manter fazer castelo pont...          3"
      ]
     },
     "execution_count": 9,
     "metadata": {},
     "output_type": "execute_result"
    }
   ],
   "source": [
    "df.head()"
   ]
  },
  {
   "cell_type": "markdown",
   "id": "6d0fba6e",
   "metadata": {},
   "source": [
    "## Gerando bigrams"
   ]
  },
  {
   "cell_type": "code",
   "execution_count": 10,
   "id": "6bd40a55",
   "metadata": {},
   "outputs": [],
   "source": [
    "def generate_bigrams(text):\n",
    "    tokens = word_tokenize(text.lower())  # Tokenize and convert to lowercase\n",
    "    bigram_list = list(bigrams(tokens))   # Generate bigrams\n",
    "    return [' '.join(bigram) for bigram in bigram_list]"
   ]
  },
  {
   "cell_type": "code",
   "execution_count": 11,
   "id": "ef86c99f",
   "metadata": {},
   "outputs": [],
   "source": [
    "# Aplica função de bigrama por linha\n",
    "df['descricao_bigrams'] = df['descricao'].apply(lambda x: ' '.join(generate_bigrams(x)))"
   ]
  },
  {
   "cell_type": "code",
   "execution_count": 12,
   "id": "fcde8f6c",
   "metadata": {},
   "outputs": [
    {
     "data": {
      "text/html": [
       "<div>\n",
       "<style scoped>\n",
       "    .dataframe tbody tr th:only-of-type {\n",
       "        vertical-align: middle;\n",
       "    }\n",
       "\n",
       "    .dataframe tbody tr th {\n",
       "        vertical-align: top;\n",
       "    }\n",
       "\n",
       "    .dataframe thead th {\n",
       "        text-align: right;\n",
       "    }\n",
       "</style>\n",
       "<table border=\"1\" class=\"dataframe\">\n",
       "  <thead>\n",
       "    <tr style=\"text-align: right;\">\n",
       "      <th></th>\n",
       "      <th>descricao</th>\n",
       "      <th>categoria</th>\n",
       "      <th>descricao_bigrams</th>\n",
       "    </tr>\n",
       "  </thead>\n",
       "  <tbody>\n",
       "    <tr>\n",
       "      <th>0</th>\n",
       "      <td>caneta bic cristal</td>\n",
       "      <td>3</td>\n",
       "      <td>caneta bic bic cristal</td>\n",
       "    </tr>\n",
       "    <tr>\n",
       "      <th>1</th>\n",
       "      <td>caneta bps pilot</td>\n",
       "      <td>3</td>\n",
       "      <td>caneta bps bps pilot</td>\n",
       "    </tr>\n",
       "    <tr>\n",
       "      <th>2</th>\n",
       "      <td>caneta marcador permanente acrilex ponta dupla</td>\n",
       "      <td>3</td>\n",
       "      <td>caneta marcador marcador permanente permanente...</td>\n",
       "    </tr>\n",
       "    <tr>\n",
       "      <th>3</th>\n",
       "      <td>caneta retocar madeira branco corcel</td>\n",
       "      <td>3</td>\n",
       "      <td>caneta retocar retocar madeira madeira branco ...</td>\n",
       "    </tr>\n",
       "    <tr>\n",
       "      <th>4</th>\n",
       "      <td>caneta retroprojetor manter fazer castelo pont...</td>\n",
       "      <td>3</td>\n",
       "      <td>caneta retroprojetor retroprojetor manter mant...</td>\n",
       "    </tr>\n",
       "  </tbody>\n",
       "</table>\n",
       "</div>"
      ],
      "text/plain": [
       "                                           descricao  categoria  \\\n",
       "0                                 caneta bic cristal          3   \n",
       "1                                   caneta bps pilot          3   \n",
       "2     caneta marcador permanente acrilex ponta dupla          3   \n",
       "3               caneta retocar madeira branco corcel          3   \n",
       "4  caneta retroprojetor manter fazer castelo pont...          3   \n",
       "\n",
       "                                   descricao_bigrams  \n",
       "0                             caneta bic bic cristal  \n",
       "1                               caneta bps bps pilot  \n",
       "2  caneta marcador marcador permanente permanente...  \n",
       "3  caneta retocar retocar madeira madeira branco ...  \n",
       "4  caneta retroprojetor retroprojetor manter mant...  "
      ]
     },
     "execution_count": 12,
     "metadata": {},
     "output_type": "execute_result"
    }
   ],
   "source": [
    "df.head()"
   ]
  },
  {
   "cell_type": "markdown",
   "id": "51092bea",
   "metadata": {},
   "source": [
    "## Separando em treino/teste e vetorizando"
   ]
  },
  {
   "cell_type": "code",
   "execution_count": 13,
   "id": "e91d9486",
   "metadata": {},
   "outputs": [],
   "source": [
    "# Separa em treino e teste\n",
    "X = df['descricao_bigrams']\n",
    "y = df['categoria']\n",
    "\n",
    "X_train, X_test, y_train, y_test = train_test_split(X, y, test_size = 0.2, random_state = seed_)"
   ]
  },
  {
   "cell_type": "code",
   "execution_count": 14,
   "id": "505cdb53",
   "metadata": {},
   "outputs": [],
   "source": [
    "# Realiza contagem de token\n",
    "vectorizer = CountVectorizer()\n",
    "X_train_vec = vectorizer.fit_transform(X_train)\n",
    "X_test_vec = vectorizer.transform(X_test)"
   ]
  },
  {
   "cell_type": "markdown",
   "id": "7d35a3ed",
   "metadata": {},
   "source": [
    "# Modelagem Naive Bayes"
   ]
  },
  {
   "cell_type": "code",
   "execution_count": 15,
   "id": "a9933f7e",
   "metadata": {},
   "outputs": [],
   "source": [
    "def report_modelo(modelo, y, pred):\n",
    "    print(\"Acurácia: %f\" % accuracy_score(y_true = y, y_pred = pred))\n",
    "    \n",
    "    # Plotando a matriz de confusão\n",
    "    cm = confusion_matrix(y, pred)\n",
    "    cm = pd.DataFrame(cm, index = target_names, columns = target_names)\n",
    "\n",
    "    plt.figure(figsize = (8, 8))\n",
    "    sns.heatmap(cm, cmap = \"Blues\", linecolor = 'black', linewidths = 1, annot = True, \\\n",
    "                fmt = '', xticklabels = target_names, yticklabels = target_names)\n",
    "    plt.show()\n",
    "    \n",
    "    # Imprimindo métricas\n",
    "    print(classification_report(y_true = y, y_pred = pred, target_names= target_names))"
   ]
  },
  {
   "cell_type": "code",
   "execution_count": 16,
   "id": "337bb3b6",
   "metadata": {},
   "outputs": [],
   "source": [
    "def treinaClassificacao_GridSearchCV(modelo, params_, x_treino, y_treino, x_teste, y_teste,\\\n",
    "                        n_jobs = -1, cv = 5, refit = True, scoring = None, salvar_resultados = False,\\\n",
    "                       report_treino = False, retorna_modelo = False):\n",
    "    \n",
    "    # Realizando treinamento baseado no grid informado\n",
    "    grid = GridSearchCV(modelo, params_, n_jobs = n_jobs, cv = cv, refit = refit, scoring = scoring)\n",
    "    \n",
    "    grid.fit(x_treino, y_treino)\n",
    "    pred = grid.predict(x_teste)\n",
    "    modelo_ = grid.best_estimator_\n",
    "\n",
    "    print(grid.best_params_)\n",
    "    \n",
    "    # Realizando previsões\n",
    "    y_test_pred = modelo_.predict(x_teste)\n",
    "    \n",
    "    # Gerando report do modelo\n",
    "    report_modelo(modelo_, y_teste, y_test_pred) \n",
    "    \n",
    "    # Salvando resultados em dataframe caso solicitado\n",
    "    if salvar_resultados:\n",
    "        resultados_df = pd.DataFrame(grid.cv_results_)\n",
    "        \n",
    "        if retorna_modelo:\n",
    "            return resultados_df, modelo_\n",
    "        else:\n",
    "            resultados_df\n",
    "        \n",
    "    if retorna_modelo:\n",
    "        return modelo_"
   ]
  },
  {
   "cell_type": "markdown",
   "id": "c8465605",
   "metadata": {},
   "source": [
    "## Molelo Base"
   ]
  },
  {
   "cell_type": "code",
   "execution_count": 17,
   "id": "694ac0d0",
   "metadata": {},
   "outputs": [
    {
     "data": {
      "text/plain": [
       "MultinomialNB()"
      ]
     },
     "execution_count": 17,
     "metadata": {},
     "output_type": "execute_result"
    }
   ],
   "source": [
    "# Instancia modelo base\n",
    "nb_classifier = MultinomialNB()\n",
    "nb_classifier.fit(X_train_vec, y_train)"
   ]
  },
  {
   "cell_type": "code",
   "execution_count": 18,
   "id": "0043178a",
   "metadata": {},
   "outputs": [
    {
     "name": "stdout",
     "output_type": "stream",
     "text": [
      "Acurácia: 0.892537\n"
     ]
    },
    {
     "data": {
      "image/png": "[encoded data removed]",
      "text/plain": [
       "<Figure size 576x576 with 2 Axes>"
      ]
     },
     "metadata": {
      "needs_background": "light"
     },
     "output_type": "display_data"
    },
    {
     "name": "stdout",
     "output_type": "stream",
     "text": [
      "              precision    recall  f1-score   support\n",
      "\n",
      "   Embalagem       0.96      0.77      0.85       301\n",
      "         Epi       0.92      0.96      0.94       247\n",
      "  Hidráulico       0.94      0.87      0.90       153\n",
      "   Papelaria       0.81      0.97      0.88       304\n",
      "\n",
      "    accuracy                           0.89      1005\n",
      "   macro avg       0.91      0.89      0.90      1005\n",
      "weighted avg       0.90      0.89      0.89      1005\n",
      "\n"
     ]
    }
   ],
   "source": [
    "# Realiza previsões e imprime report\n",
    "y_pred = nb_classifier.predict(X_test_vec)\n",
    "report_modelo(nb_classifier, y_test, y_pred) "
   ]
  },
  {
   "cell_type": "markdown",
   "id": "69313853",
   "metadata": {},
   "source": [
    "## Tuning Naive Bayes"
   ]
  },
  {
   "cell_type": "code",
   "execution_count": 19,
   "id": "45b3fe24",
   "metadata": {},
   "outputs": [
    {
     "name": "stdout",
     "output_type": "stream",
     "text": [
      "{'alpha': 0.005}\n",
      "Acurácia: 0.910448\n"
     ]
    },
    {
     "data": {
      "image/png": "[encoded data removed]",
      "text/plain": [
       "<Figure size 576x576 with 2 Axes>"
      ]
     },
     "metadata": {
      "needs_background": "light"
     },
     "output_type": "display_data"
    },
    {
     "name": "stdout",
     "output_type": "stream",
     "text": [
      "              precision    recall  f1-score   support\n",
      "\n",
      "   Embalagem       0.95      0.82      0.88       301\n",
      "         Epi       0.94      0.97      0.95       247\n",
      "  Hidráulico       0.96      0.90      0.93       153\n",
      "   Papelaria       0.84      0.96      0.90       304\n",
      "\n",
      "    accuracy                           0.91      1005\n",
      "   macro avg       0.92      0.91      0.91      1005\n",
      "weighted avg       0.92      0.91      0.91      1005\n",
      "\n",
      "CPU times: total: 1.73 s\n",
      "Wall time: 6.98 s\n"
     ]
    }
   ],
   "source": [
    "%%time\n",
    "\n",
    "params = {\n",
    "    'alpha': [i * 0.001 for i in range(1000)]\n",
    "}\n",
    "\n",
    "# Tuning Naibe Nayes\n",
    "modelo_nb = MultinomialNB()\n",
    "\n",
    "modelo_nb = treinaClassificacao_GridSearchCV(modelo_nb, params, X_train_vec, y_train,\\\n",
    "                                              X_test_vec, y_test)"
   ]
  },
  {
   "cell_type": "code",
   "execution_count": 20,
   "id": "3b6e32fa",
   "metadata": {},
   "outputs": [],
   "source": [
    "# Salvando modelo como pickle\n",
    "with open('models/naive_bayes.pkl', 'wb') as model_file:\n",
    "    pickle.dump(nb_classifier, model_file)"
   ]
  }
 ],
 "metadata": {
  "kernelspec": {
   "display_name": "Python 3 (ipykernel)",
   "language": "python",
   "name": "python3"
  },
  "language_info": {
   "codemirror_mode": {
    "name": "ipython",
    "version": 3
   },
   "file_extension": ".py",
   "mimetype": "text/x-python",
   "name": "python",
   "nbconvert_exporter": "python",
   "pygments_lexer": "ipython3",
   "version": "3.9.12"
  }
 },
 "nbformat": 4,
 "nbformat_minor": 5
}
