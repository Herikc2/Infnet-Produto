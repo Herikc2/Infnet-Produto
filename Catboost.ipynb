{
 "cells": [
  {
   "cell_type": "code",
   "execution_count": 1,
   "id": "8d2f20a9",
   "metadata": {},
   "outputs": [
    {
     "name": "stderr",
     "output_type": "stream",
     "text": [
      "C:\\Users\\herik\\anaconda3\\lib\\site-packages\\numpy\\_distributor_init.py:30: UserWarning: loaded more than 1 DLL from .libs:\n",
      "C:\\Users\\herik\\anaconda3\\lib\\site-packages\\numpy\\.libs\\libopenblas.4SP5SUA7CBGXUEOC35YP2ASOICYYEQZZ.gfortran-win_amd64.dll\n",
      "C:\\Users\\herik\\anaconda3\\lib\\site-packages\\numpy\\.libs\\libopenblas64__v0.3.21-gcc_10_3_0.dll\n",
      "  warnings.warn(\"loaded more than 1 DLL from .libs:\"\n"
     ]
    }
   ],
   "source": [
    "import numpy as np\n",
    "import pandas as pd\n",
    "import seaborn as sns\n",
    "import matplotlib.pyplot as plt\n",
    "import pickle\n",
    "\n",
    "from sklearn.feature_extraction.text import TfidfVectorizer\n",
    "from sklearn.model_selection import train_test_split, GridSearchCV\n",
    "from sklearn import metrics\n",
    "from sklearn.metrics import accuracy_score\n",
    "from sklearn.metrics import confusion_matrix, classification_report\n",
    "from catboost import CatBoostClassifier\n",
    "from catboost import Pool, cv\n",
    "from sklearn.preprocessing import LabelEncoder"
   ]
  },
  {
   "cell_type": "markdown",
   "id": "58e21335",
   "metadata": {},
   "source": [
    "## Ambiente"
   ]
  },
  {
   "cell_type": "code",
   "execution_count": 2,
   "id": "11943e8f",
   "metadata": {},
   "outputs": [],
   "source": [
    "seed_ = 194\n",
    "np.random.seed(seed_)"
   ]
  },
  {
   "cell_type": "markdown",
   "id": "dc87ced4",
   "metadata": {},
   "source": [
    "## Carregando e tratando base de dados"
   ]
  },
  {
   "cell_type": "code",
   "execution_count": 3,
   "id": "a86de066",
   "metadata": {},
   "outputs": [],
   "source": [
    "df = pd.read_csv('data/df_sem_duplicatas.csv')"
   ]
  },
  {
   "cell_type": "code",
   "execution_count": 4,
   "id": "3a1dc832",
   "metadata": {},
   "outputs": [
    {
     "data": {
      "text/html": [
       "<div>\n",
       "<style scoped>\n",
       "    .dataframe tbody tr th:only-of-type {\n",
       "        vertical-align: middle;\n",
       "    }\n",
       "\n",
       "    .dataframe tbody tr th {\n",
       "        vertical-align: top;\n",
       "    }\n",
       "\n",
       "    .dataframe thead th {\n",
       "        text-align: right;\n",
       "    }\n",
       "</style>\n",
       "<table border=\"1\" class=\"dataframe\">\n",
       "  <thead>\n",
       "    <tr style=\"text-align: right;\">\n",
       "      <th></th>\n",
       "      <th>descricao</th>\n",
       "      <th>categoria</th>\n",
       "    </tr>\n",
       "  </thead>\n",
       "  <tbody>\n",
       "    <tr>\n",
       "      <th>0</th>\n",
       "      <td>caneta bic cristal</td>\n",
       "      <td>Papelaria</td>\n",
       "    </tr>\n",
       "    <tr>\n",
       "      <th>1</th>\n",
       "      <td>caneta bps pilot</td>\n",
       "      <td>Papelaria</td>\n",
       "    </tr>\n",
       "    <tr>\n",
       "      <th>2</th>\n",
       "      <td>caneta marcador permanente acrilex ponta dupla</td>\n",
       "      <td>Papelaria</td>\n",
       "    </tr>\n",
       "    <tr>\n",
       "      <th>3</th>\n",
       "      <td>caneta retocar madeira branco corcel</td>\n",
       "      <td>Papelaria</td>\n",
       "    </tr>\n",
       "    <tr>\n",
       "      <th>4</th>\n",
       "      <td>caneta retroprojetor manter fazer castelo pont...</td>\n",
       "      <td>Papelaria</td>\n",
       "    </tr>\n",
       "  </tbody>\n",
       "</table>\n",
       "</div>"
      ],
      "text/plain": [
       "                                           descricao  categoria\n",
       "0                                 caneta bic cristal  Papelaria\n",
       "1                                   caneta bps pilot  Papelaria\n",
       "2     caneta marcador permanente acrilex ponta dupla  Papelaria\n",
       "3               caneta retocar madeira branco corcel  Papelaria\n",
       "4  caneta retroprojetor manter fazer castelo pont...  Papelaria"
      ]
     },
     "execution_count": 4,
     "metadata": {},
     "output_type": "execute_result"
    }
   ],
   "source": [
    "df.head()"
   ]
  },
  {
   "cell_type": "code",
   "execution_count": 5,
   "id": "98a0d626",
   "metadata": {},
   "outputs": [],
   "source": [
    "# Carregando LabelEncoder model\n",
    "pkl_file = open('models/label_encoder.pkl', 'rb')\n",
    "le = pickle.load(pkl_file) \n",
    "pkl_file.close()"
   ]
  },
  {
   "cell_type": "code",
   "execution_count": 6,
   "id": "2f7c6c9d",
   "metadata": {},
   "outputs": [],
   "source": [
    "le.fit(df['categoria'])\n",
    "df['categoria'] = le.transform(df['categoria'])"
   ]
  },
  {
   "cell_type": "code",
   "execution_count": 7,
   "id": "936662cf",
   "metadata": {},
   "outputs": [],
   "source": [
    "# Salvando LabelEncoder model\n",
    "\n",
    "#output = open('models/label_encoder.pkl', 'wb')\n",
    "#pickle.dump(le, output)\n",
    "#output.close()"
   ]
  },
  {
   "cell_type": "code",
   "execution_count": 8,
   "id": "9a9c10ae",
   "metadata": {},
   "outputs": [],
   "source": [
    "# Capturando targets gerados pelo LabelEncoder\n",
    "target_names = le.classes_"
   ]
  },
  {
   "cell_type": "code",
   "execution_count": 9,
   "id": "f6d56386",
   "metadata": {},
   "outputs": [
    {
     "data": {
      "text/html": [
       "<div>\n",
       "<style scoped>\n",
       "    .dataframe tbody tr th:only-of-type {\n",
       "        vertical-align: middle;\n",
       "    }\n",
       "\n",
       "    .dataframe tbody tr th {\n",
       "        vertical-align: top;\n",
       "    }\n",
       "\n",
       "    .dataframe thead th {\n",
       "        text-align: right;\n",
       "    }\n",
       "</style>\n",
       "<table border=\"1\" class=\"dataframe\">\n",
       "  <thead>\n",
       "    <tr style=\"text-align: right;\">\n",
       "      <th></th>\n",
       "      <th>descricao</th>\n",
       "      <th>categoria</th>\n",
       "    </tr>\n",
       "  </thead>\n",
       "  <tbody>\n",
       "    <tr>\n",
       "      <th>0</th>\n",
       "      <td>caneta bic cristal</td>\n",
       "      <td>3</td>\n",
       "    </tr>\n",
       "    <tr>\n",
       "      <th>1</th>\n",
       "      <td>caneta bps pilot</td>\n",
       "      <td>3</td>\n",
       "    </tr>\n",
       "    <tr>\n",
       "      <th>2</th>\n",
       "      <td>caneta marcador permanente acrilex ponta dupla</td>\n",
       "      <td>3</td>\n",
       "    </tr>\n",
       "    <tr>\n",
       "      <th>3</th>\n",
       "      <td>caneta retocar madeira branco corcel</td>\n",
       "      <td>3</td>\n",
       "    </tr>\n",
       "    <tr>\n",
       "      <th>4</th>\n",
       "      <td>caneta retroprojetor manter fazer castelo pont...</td>\n",
       "      <td>3</td>\n",
       "    </tr>\n",
       "  </tbody>\n",
       "</table>\n",
       "</div>"
      ],
      "text/plain": [
       "                                           descricao  categoria\n",
       "0                                 caneta bic cristal          3\n",
       "1                                   caneta bps pilot          3\n",
       "2     caneta marcador permanente acrilex ponta dupla          3\n",
       "3               caneta retocar madeira branco corcel          3\n",
       "4  caneta retroprojetor manter fazer castelo pont...          3"
      ]
     },
     "execution_count": 9,
     "metadata": {},
     "output_type": "execute_result"
    }
   ],
   "source": [
    "df.head()"
   ]
  },
  {
   "cell_type": "markdown",
   "id": "ee1e9f5f",
   "metadata": {},
   "source": [
    "## Separando em treino e teste"
   ]
  },
  {
   "cell_type": "code",
   "execution_count": 10,
   "id": "7fb53a36",
   "metadata": {},
   "outputs": [],
   "source": [
    "# Separando em variaveis independentes e dependentes\n",
    "X, y = df.drop('categoria', axis = 1), df['categoria']"
   ]
  },
  {
   "cell_type": "code",
   "execution_count": 11,
   "id": "d39fe3da",
   "metadata": {},
   "outputs": [],
   "source": [
    "# Separando em treino e teste\n",
    "X_train, X_test, y_train, y_test = train_test_split(X, y, test_size = 0.2, random_state = seed_)\n",
    "data_train = pd.concat([X_train, y_train], axis = 1)"
   ]
  },
  {
   "cell_type": "code",
   "execution_count": 12,
   "id": "20b37f9c",
   "metadata": {},
   "outputs": [],
   "source": [
    "# Separando em teste e validação\n",
    "X_val, X_test, y_val, y_test = train_test_split(X_test, y_test, test_size = 0.5, random_state = seed_)"
   ]
  },
  {
   "cell_type": "code",
   "execution_count": 13,
   "id": "6b1e40b2",
   "metadata": {},
   "outputs": [],
   "source": [
    "# Gerando TF-IDF\n",
    "TfidfVec = TfidfVectorizer(ngram_range = (1, 1))\n",
    "X_train_tfidf = TfidfVec.fit_transform(X_train['descricao'].tolist())\n",
    "X_val_tfidf = TfidfVec.transform(X_val['descricao'].tolist())\n",
    "X_test_tfidf = TfidfVec.transform(X_test['descricao'].tolist())"
   ]
  },
  {
   "cell_type": "code",
   "execution_count": 14,
   "id": "2ffcbfd9",
   "metadata": {},
   "outputs": [],
   "source": [
    "# Salvando tf-idf como pickle\n",
    "with open('models/tfidf_catboost.pkl', 'wb') as model_file:\n",
    "    pickle.dump(TfidfVec, model_file)"
   ]
  },
  {
   "cell_type": "code",
   "execution_count": 15,
   "id": "b145364f",
   "metadata": {},
   "outputs": [
    {
     "data": {
      "text/html": [
       "<div>\n",
       "<style scoped>\n",
       "    .dataframe tbody tr th:only-of-type {\n",
       "        vertical-align: middle;\n",
       "    }\n",
       "\n",
       "    .dataframe tbody tr th {\n",
       "        vertical-align: top;\n",
       "    }\n",
       "\n",
       "    .dataframe thead th {\n",
       "        text-align: right;\n",
       "    }\n",
       "</style>\n",
       "<table border=\"1\" class=\"dataframe\">\n",
       "  <thead>\n",
       "    <tr style=\"text-align: right;\">\n",
       "      <th></th>\n",
       "      <th>descricao</th>\n",
       "      <th>categoria</th>\n",
       "    </tr>\n",
       "  </thead>\n",
       "  <tbody>\n",
       "    <tr>\n",
       "      <th>0</th>\n",
       "      <td>caneta bic cristal</td>\n",
       "      <td>3</td>\n",
       "    </tr>\n",
       "    <tr>\n",
       "      <th>1</th>\n",
       "      <td>caneta bps pilot</td>\n",
       "      <td>3</td>\n",
       "    </tr>\n",
       "    <tr>\n",
       "      <th>2</th>\n",
       "      <td>caneta marcador permanente acrilex ponta dupla</td>\n",
       "      <td>3</td>\n",
       "    </tr>\n",
       "    <tr>\n",
       "      <th>3</th>\n",
       "      <td>caneta retocar madeira branco corcel</td>\n",
       "      <td>3</td>\n",
       "    </tr>\n",
       "    <tr>\n",
       "      <th>4</th>\n",
       "      <td>caneta retroprojetor manter fazer castelo pont...</td>\n",
       "      <td>3</td>\n",
       "    </tr>\n",
       "  </tbody>\n",
       "</table>\n",
       "</div>"
      ],
      "text/plain": [
       "                                           descricao  categoria\n",
       "0                                 caneta bic cristal          3\n",
       "1                                   caneta bps pilot          3\n",
       "2     caneta marcador permanente acrilex ponta dupla          3\n",
       "3               caneta retocar madeira branco corcel          3\n",
       "4  caneta retroprojetor manter fazer castelo pont...          3"
      ]
     },
     "execution_count": 15,
     "metadata": {},
     "output_type": "execute_result"
    }
   ],
   "source": [
    "df.head()"
   ]
  },
  {
   "cell_type": "markdown",
   "id": "6f541f49",
   "metadata": {},
   "source": [
    "## Modelo base Catboost"
   ]
  },
  {
   "cell_type": "code",
   "execution_count": 16,
   "id": "e68662cd",
   "metadata": {},
   "outputs": [],
   "source": [
    "def report_modelo(modelo, y, pred):\n",
    "    print(\"Acurácia: %f\" % accuracy_score(y_true = y, y_pred = pred))\n",
    "    \n",
    "    # Plotando a matriz de confusão\n",
    "    cm = confusion_matrix(y, pred)\n",
    "    cm = pd.DataFrame(cm, index = target_names, columns = target_names)\n",
    "\n",
    "    plt.figure(figsize = (8, 8))\n",
    "    sns.heatmap(cm, cmap = \"Blues\", linecolor = 'black', linewidths = 1, annot = True, \\\n",
    "                fmt = '', xticklabels = target_names, yticklabels = target_names)\n",
    "    plt.show()\n",
    "    \n",
    "    # Imprimindo métricas\n",
    "    print(classification_report(y_true = y, y_pred = pred, target_names= target_names))"
   ]
  },
  {
   "cell_type": "code",
   "execution_count": 17,
   "id": "ff75caba",
   "metadata": {},
   "outputs": [],
   "source": [
    "def treinaClassificacao_GridSearchCV(modelo, params_, x_treino, y_treino, x_teste, y_teste,\\\n",
    "                        n_jobs = -1, cv = 5, refit = True, scoring = None, salvar_resultados = False,\\\n",
    "                       report_treino = False, retorna_modelo = False):\n",
    "    \n",
    "    # Realizando treinamento baseado no grid informado\n",
    "    grid = GridSearchCV(modelo, params_, n_jobs = n_jobs, cv = cv, refit = refit, scoring = scoring)\n",
    "    \n",
    "    grid.fit(x_treino, y_treino)\n",
    "    pred = grid.predict(x_teste)\n",
    "    modelo_ = grid.best_estimator_\n",
    "\n",
    "    print(grid.best_params_)\n",
    "    \n",
    "    # Realizando previsões\n",
    "    y_test_pred = modelo_.predict(x_teste)\n",
    "    \n",
    "    # Gerando report do modelo\n",
    "    report_modelo(modelo_, y_teste, y_test_pred) \n",
    "    \n",
    "    # Salvando resultados em dataframe caso solicitado\n",
    "    if salvar_resultados:\n",
    "        resultados_df = pd.DataFrame(grid.cv_results_)\n",
    "        \n",
    "        if retorna_modelo:\n",
    "            return resultados_df, modelo_\n",
    "        else:\n",
    "            resultados_df\n",
    "        \n",
    "    if retorna_modelo:\n",
    "        return modelo_"
   ]
  },
  {
   "cell_type": "code",
   "execution_count": 15,
   "id": "3862daa2",
   "metadata": {},
   "outputs": [
    {
     "name": "stdout",
     "output_type": "stream",
     "text": [
      "{}\n",
      "Acurácia: 0.701789\n"
     ]
    },
    {
     "data": {
      "image/png": "[encoded data removed]",
      "text/plain": [
       "<Figure size 576x576 with 2 Axes>"
      ]
     },
     "metadata": {
      "needs_background": "light"
     },
     "output_type": "display_data"
    },
    {
     "name": "stdout",
     "output_type": "stream",
     "text": [
      "              precision    recall  f1-score   support\n",
      "\n",
      "   Papelaria       0.95      0.51      0.66       151\n",
      "         Epi       0.63      1.00      0.78       123\n",
      "  Hidráulico       1.00      0.12      0.22        82\n",
      "   Embalagem       0.66      0.97      0.78       147\n",
      "\n",
      "    accuracy                           0.70       503\n",
      "   macro avg       0.81      0.65      0.61       503\n",
      "weighted avg       0.80      0.70      0.65       503\n",
      "\n",
      "CPU times: total: 30.8 s\n",
      "Wall time: 13.2 s\n"
     ]
    }
   ],
   "source": [
    "%%time\n",
    "\n",
    "params = {}\n",
    "\n",
    "# Modelo Base CatBoost Classifier\n",
    "modelo_cat = CatBoostClassifier(iterations = 50, eval_metric = 'MultiClass', metric_period = 50,\\\n",
    "                                learning_rate = 0.01, verbose = False, random_seed = seed_)\n",
    "\n",
    "treinaClassificacao_GridSearchCV(modelo_cat, params, X_train_tfidf, y_train, X_test_tfidf, y_test)"
   ]
  },
  {
   "cell_type": "markdown",
   "id": "3260ddd4",
   "metadata": {},
   "source": [
    "## Tuning Catboost"
   ]
  },
  {
   "cell_type": "code",
   "execution_count": 50,
   "id": "9795d871",
   "metadata": {},
   "outputs": [
    {
     "name": "stdout",
     "output_type": "stream",
     "text": [
      "{'iterations': 1000, 'learning_rate': 0.1}\n",
      "Acurácia: 0.922465\n"
     ]
    },
    {
     "data": {
      "image/png": "[encoded data removed]",
      "text/plain": [
       "<Figure size 576x576 with 2 Axes>"
      ]
     },
     "metadata": {
      "needs_background": "light"
     },
     "output_type": "display_data"
    },
    {
     "name": "stdout",
     "output_type": "stream",
     "text": [
      "              precision    recall  f1-score   support\n",
      "\n",
      "   Papelaria       0.97      0.90      0.93       151\n",
      "         Epi       0.89      0.95      0.92       123\n",
      "  Hidráulico       0.92      0.83      0.87        82\n",
      "   Embalagem       0.91      0.97      0.94       147\n",
      "\n",
      "    accuracy                           0.92       503\n",
      "   macro avg       0.92      0.91      0.92       503\n",
      "weighted avg       0.92      0.92      0.92       503\n",
      "\n",
      "CPU times: total: 9min 33s\n",
      "Wall time: 8min 35s\n"
     ]
    }
   ],
   "source": [
    "%%time\n",
    "\n",
    "params = {\n",
    "    'iterations': [50, 100, 500, 1000],\n",
    "    'learning_rate': [0.1, 0.01, 0.001]\n",
    "}\n",
    "\n",
    "# Tuning 01 Catboost\n",
    "modelo_cat = CatBoostClassifier(eval_metric = 'MultiClass', metric_period = 50,\\\n",
    "                                verbose = False, random_seed = seed_)\n",
    "\n",
    "treinaClassificacao_GridSearchCV(modelo_cat, params, X_train_tfidf, y_train, X_test_tfidf, y_test)"
   ]
  },
  {
   "cell_type": "code",
   "execution_count": 51,
   "id": "2a46a960",
   "metadata": {},
   "outputs": [
    {
     "name": "stdout",
     "output_type": "stream",
     "text": [
      "{'iterations': 1250, 'learning_rate': 0.2}\n",
      "Acurácia: 0.932406\n"
     ]
    },
    {
     "data": {
      "image/png": "[encoded data removed]",
      "text/plain": [
       "<Figure size 576x576 with 2 Axes>"
      ]
     },
     "metadata": {
      "needs_background": "light"
     },
     "output_type": "display_data"
    },
    {
     "name": "stdout",
     "output_type": "stream",
     "text": [
      "              precision    recall  f1-score   support\n",
      "\n",
      "   Papelaria       0.97      0.91      0.94       151\n",
      "         Epi       0.91      0.96      0.94       123\n",
      "  Hidráulico       0.93      0.87      0.90        82\n",
      "   Embalagem       0.92      0.97      0.94       147\n",
      "\n",
      "    accuracy                           0.93       503\n",
      "   macro avg       0.93      0.93      0.93       503\n",
      "weighted avg       0.93      0.93      0.93       503\n",
      "\n",
      "CPU times: total: 11min 30s\n",
      "Wall time: 10min 6s\n"
     ]
    }
   ],
   "source": [
    "%%time\n",
    "\n",
    "params = {\n",
    "    'iterations': [750, 1000, 1250],\n",
    "    'learning_rate': [0.2, 0.1, 0.01]\n",
    "}\n",
    "\n",
    "# Tuning 02 Catboost\n",
    "modelo_cat = CatBoostClassifier(eval_metric = 'MultiClass', metric_period = 50,\\\n",
    "                                verbose = False, random_seed = seed_)\n",
    "\n",
    "treinaClassificacao_GridSearchCV(modelo_cat, params, X_train_tfidf, y_train, X_test_tfidf, y_test)"
   ]
  },
  {
   "cell_type": "code",
   "execution_count": 16,
   "id": "18a1ceae",
   "metadata": {},
   "outputs": [
    {
     "name": "stderr",
     "output_type": "stream",
     "text": [
      "C:\\Users\\herik\\anaconda3\\lib\\site-packages\\sklearn\\model_selection\\_validation.py:372: FitFailedWarning: \n",
      "15 fits failed out of a total of 60.\n",
      "The score on these train-test partitions for these parameters will be set to nan.\n",
      "If these failures are not expected, you can try to debug them by setting error_score='raise'.\n",
      "\n",
      "Below are more details about the failures:\n",
      "--------------------------------------------------------------------------------\n",
      "15 fits failed with the following error:\n",
      "Traceback (most recent call last):\n",
      "  File \"C:\\Users\\herik\\anaconda3\\lib\\site-packages\\sklearn\\model_selection\\_validation.py\", line 680, in _fit_and_score\n",
      "    estimator.fit(X_train, y_train, **fit_params)\n",
      "  File \"C:\\Users\\herik\\anaconda3\\lib\\site-packages\\catboost\\core.py\", line 5100, in fit\n",
      "    self._fit(X, y, cat_features, text_features, embedding_features, None, sample_weight, None, None, None, None, baseline, use_best_model,\n",
      "  File \"C:\\Users\\herik\\anaconda3\\lib\\site-packages\\catboost\\core.py\", line 2303, in _fit\n",
      "    train_params = self._prepare_train_params(\n",
      "  File \"C:\\Users\\herik\\anaconda3\\lib\\site-packages\\catboost\\core.py\", line 2230, in _prepare_train_params\n",
      "    _check_train_params(params)\n",
      "  File \"_catboost.pyx\", line 6105, in _catboost._check_train_params\n",
      "  File \"_catboost.pyx\", line 6124, in _catboost._check_train_params\n",
      "_catboost.CatBoostError: C:/Go_Agent/pipelines/BuildMaster/catboost.git/catboost/private/libs/options/boosting_options.cpp:79: Learning rate should be non-zero\n",
      "\n",
      "  warnings.warn(some_fits_failed_message, FitFailedWarning)\n",
      "C:\\Users\\herik\\anaconda3\\lib\\site-packages\\sklearn\\model_selection\\_search.py:969: UserWarning: One or more of the test scores are non-finite: [       nan 0.80641748 0.908432   0.91017422        nan 0.80567121\n",
      " 0.90818324 0.90942764        nan 0.80591965 0.90868014 0.90917827]\n",
      "  warnings.warn(\n"
     ]
    },
    {
     "name": "stdout",
     "output_type": "stream",
     "text": [
      "{'iterations': 1250, 'learning_rate': 0.2}\n",
      "Acurácia: 0.932406\n"
     ]
    },
    {
     "data": {
      "image/png": "[encoded data removed]",
      "text/plain": [
       "<Figure size 576x576 with 2 Axes>"
      ]
     },
     "metadata": {
      "needs_background": "light"
     },
     "output_type": "display_data"
    },
    {
     "name": "stdout",
     "output_type": "stream",
     "text": [
      "              precision    recall  f1-score   support\n",
      "\n",
      "   Papelaria       0.97      0.91      0.94       151\n",
      "         Epi       0.91      0.96      0.94       123\n",
      "  Hidráulico       0.93      0.87      0.90        82\n",
      "   Embalagem       0.92      0.97      0.94       147\n",
      "\n",
      "    accuracy                           0.93       503\n",
      "   macro avg       0.93      0.93      0.93       503\n",
      "weighted avg       0.93      0.93      0.93       503\n",
      "\n",
      "CPU times: total: 11min 38s\n",
      "Wall time: 23min 25s\n"
     ]
    }
   ],
   "source": [
    "%%time\n",
    "\n",
    "params = {\n",
    "    'iterations': [1250, 1500, 2000],\n",
    "    'learning_rate': [0,4, 0.3, 0.2]\n",
    "}\n",
    "\n",
    "# Tuning 03 Catboost\n",
    "modelo_cat = CatBoostClassifier(eval_metric = 'MultiClass', metric_period = 50,\\\n",
    "                                verbose = False, random_seed = seed_)\n",
    "\n",
    "treinaClassificacao_GridSearchCV(modelo_cat, params, X_train_tfidf, y_train, X_test_tfidf, y_test)"
   ]
  },
  {
   "cell_type": "code",
   "execution_count": 24,
   "id": "c180759a",
   "metadata": {},
   "outputs": [
    {
     "name": "stdout",
     "output_type": "stream",
     "text": [
      "{'depth': 7, 'iterations': 1250, 'learning_rate': 0.2}\n",
      "Acurácia: 0.936382\n"
     ]
    },
    {
     "data": {
      "image/png": "[encoded data removed]",
      "text/plain": [
       "<Figure size 576x576 with 2 Axes>"
      ]
     },
     "metadata": {
      "needs_background": "light"
     },
     "output_type": "display_data"
    },
    {
     "name": "stdout",
     "output_type": "stream",
     "text": [
      "              precision    recall  f1-score   support\n",
      "\n",
      "   Papelaria       0.96      0.93      0.94       151\n",
      "         Epi       0.92      0.96      0.94       123\n",
      "  Hidráulico       0.94      0.88      0.91        82\n",
      "   Embalagem       0.93      0.96      0.94       147\n",
      "\n",
      "    accuracy                           0.94       503\n",
      "   macro avg       0.94      0.93      0.93       503\n",
      "weighted avg       0.94      0.94      0.94       503\n",
      "\n",
      "CPU times: total: 24min 15s\n",
      "Wall time: 19min 53s\n"
     ]
    }
   ],
   "source": [
    "%%time\n",
    "\n",
    "params = {\n",
    "    'iterations': [1250],\n",
    "    'learning_rate': [0.2],\n",
    "    'depth': [6, 7, 8]\n",
    "}\n",
    "\n",
    "# Tuning 04 Catboost\n",
    "modelo_cat = CatBoostClassifier(eval_metric = 'MultiClass', metric_period = 50,\\\n",
    "                                verbose = False, random_seed = seed_)\n",
    "\n",
    "treinaClassificacao_GridSearchCV(modelo_cat, params, X_train_tfidf, y_train, X_test_tfidf, y_test)"
   ]
  },
  {
   "cell_type": "markdown",
   "id": "b3a67ea8",
   "metadata": {},
   "source": [
    "## Salvando modelo"
   ]
  },
  {
   "cell_type": "code",
   "execution_count": 18,
   "id": "c8df7142",
   "metadata": {},
   "outputs": [
    {
     "name": "stdout",
     "output_type": "stream",
     "text": [
      "{}\n",
      "Acurácia: 0.932406\n"
     ]
    },
    {
     "data": {
      "image/png": "[encoded data removed]",
      "text/plain": [
       "<Figure size 576x576 with 2 Axes>"
      ]
     },
     "metadata": {
      "needs_background": "light"
     },
     "output_type": "display_data"
    },
    {
     "name": "stdout",
     "output_type": "stream",
     "text": [
      "              precision    recall  f1-score   support\n",
      "\n",
      "   Embalagem       0.97      0.91      0.94       151\n",
      "         Epi       0.91      0.96      0.94       123\n",
      "  Hidráulico       0.93      0.87      0.90        82\n",
      "   Papelaria       0.92      0.97      0.94       147\n",
      "\n",
      "    accuracy                           0.93       503\n",
      "   macro avg       0.93      0.93      0.93       503\n",
      "weighted avg       0.93      0.93      0.93       503\n",
      "\n",
      "CPU times: total: 12min 15s\n",
      "Wall time: 3min 25s\n"
     ]
    }
   ],
   "source": [
    "%%time\n",
    "\n",
    "params = {}\n",
    "\n",
    "# Tuning 03 Catboost\n",
    "modelo_cat = CatBoostClassifier(iterations = 1250, learning_rate = 0.2, eval_metric = 'MultiClass',\\\n",
    "                                metric_period = 50, verbose = False, random_seed = seed_)\n",
    "\n",
    "modelo_cat = treinaClassificacao_GridSearchCV(modelo_cat, params, X_train_tfidf, y_train,\\\n",
    "                                              X_test_tfidf, y_test, retorna_modelo = True)"
   ]
  },
  {
   "cell_type": "code",
   "execution_count": 32,
   "id": "1b67f121",
   "metadata": {},
   "outputs": [],
   "source": [
    "modelo_cat.save_model('models/catboost.model')"
   ]
  },
  {
   "cell_type": "code",
   "execution_count": 19,
   "id": "3d091204",
   "metadata": {},
   "outputs": [],
   "source": [
    "# Salvando modelo como pickle\n",
    "with open('models/catboost.pkl', 'wb') as model_file:\n",
    "    pickle.dump(modelo_cat, model_file)"
   ]
  },
  {
   "cell_type": "code",
   "execution_count": null,
   "id": "20b05359",
   "metadata": {},
   "outputs": [],
   "source": []
  }
 ],
 "metadata": {
  "kernelspec": {
   "display_name": "Python 3 (ipykernel)",
   "language": "python",
   "name": "python3"
  },
  "language_info": {
   "codemirror_mode": {
    "name": "ipython",
    "version": 3
   },
   "file_extension": ".py",
   "mimetype": "text/x-python",
   "name": "python",
   "nbconvert_exporter": "python",
   "pygments_lexer": "ipython3",
   "version": "3.10.12"
  }
 },
 "nbformat": 4,
 "nbformat_minor": 5
}
