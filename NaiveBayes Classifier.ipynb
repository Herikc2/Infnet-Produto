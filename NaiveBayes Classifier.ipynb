{
 "cells": [
  {
   "cell_type": "markdown",
   "metadata": {},
   "source": [
    "**Importando bibliotecas que serão úteis para o classificador NayveBayes e determinando uma random_seed**"
   ]
  },
  {
   "cell_type": "code",
   "execution_count": 1,
   "metadata": {},
   "outputs": [],
   "source": [
    "\n",
    "import pandas as pd\n",
    "import numpy as np\n",
    "import seaborn as sns\n",
    "import pickle\n",
    "import matplotlib.pyplot as plt\n",
    "\n",
    "from sklearn.model_selection import train_test_split\n",
    "from sklearn.feature_extraction.text import CountVectorizer\n",
    "from sklearn.naive_bayes import MultinomialNB\n",
    "from sklearn.metrics import accuracy_score\n",
    "from nltk import bigrams\n",
    "from nltk.tokenize import word_tokenize\n",
    "from sklearn.model_selection import train_test_split, GridSearchCV\n",
    "from sklearn import metrics\n",
    "from sklearn.metrics import accuracy_score\n",
    "from sklearn.metrics import confusion_matrix, classification_report\n",
    "\n",
    "#Set seed\n",
    "seed_ = 194\n",
    "np.random.seed(seed_)"
   ]
  },
  {
   "cell_type": "markdown",
   "metadata": {},
   "source": [
    "**Carregando a base de dados a ser utilizada**"
   ]
  },
  {
   "cell_type": "code",
   "execution_count": null,
   "metadata": {},
   "outputs": [],
   "source": [
    "\n",
    "df = pd.read_csv('datasets/df_sem_duplicatas.csv')"
   ]
  },
  {
   "cell_type": "markdown",
   "metadata": {},
   "source": [
    "**Set-Up do LabelEncoder model**"
   ]
  },
  {
   "cell_type": "code",
   "execution_count": null,
   "metadata": {},
   "outputs": [],
   "source": [
    "#Criação do LabelEncoder\n",
    "pkl_file = open('models/label_encoder.pkl', 'rb')\n",
    "le = pickle.load(pkl_file) \n",
    "pkl_file.close()\n",
    "\n",
    "#O código abaixo é para aplicar na coluna categoria o LabelEncoder\n",
    "le.fit(df['categoria'])\n",
    "df['categoria'] = le.transform(df['categoria'])\n",
    "\n",
    "#Atribuição das classes do LabelEncoder a variável target_names\n",
    "target_names = le.classes_"
   ]
  },
  {
   "cell_type": "markdown",
   "metadata": {},
   "source": [
    "**Separando em treino e teste e vetorizando por bigram**"
   ]
  },
  {
   "cell_type": "code",
   "execution_count": null,
   "metadata": {},
   "outputs": [],
   "source": [
    "# Separa em treino e teste\n",
    "X = df['descricao']\n",
    "y = df['categoria']\n",
    "\n",
    "X_train, X_test, y_train, y_test = train_test_split(X, y, test_size = 0.2, random_state = seed_)\n",
    "\n",
    "# Realiza contagem de token com bigram\n",
    "vectorizer = CountVectorizer(ngram_range = (2, 2))\n",
    "X_train_vec = vectorizer.fit_transform(X_train)\n",
    "X_test_vec = vectorizer.transform(X_test)"
   ]
  },
  {
   "cell_type": "markdown",
   "metadata": {},
   "source": [
    "**Set up Modelo NaiveBayes**\n",
    "\n",
    "Impressão de metricas e treinamento com o GridSearchCV"
   ]
  },
  {
   "cell_type": "code",
   "execution_count": null,
   "metadata": {},
   "outputs": [],
   "source": [
    "#a função report_modelo é para imprimir as métricas do modelo\n",
    "def report_modelo(modelo, y, pred):\n",
    "    print(\"Acurácia: %f\" % accuracy_score(y_true = y, y_pred = pred))\n",
    "    \n",
    "    # Plotando a matriz de confusão\n",
    "    cm = confusion_matrix(y, pred)\n",
    "    cm = pd.DataFrame(cm, index = target_names, columns = target_names)\n",
    "\n",
    "    plt.figure(figsize = (8, 8))\n",
    "    sns.heatmap(cm, cmap = \"Blues\", linecolor = 'black', linewidths = 1, annot = True, \\\n",
    "                fmt = '', xticklabels = target_names, yticklabels = target_names)\n",
    "    plt.show()\n",
    "    \n",
    "    # Imprimindo métricas\n",
    "    print(classification_report(y_true = y, y_pred = pred, target_names= target_names))"
   ]
  },
  {
   "cell_type": "code",
   "execution_count": null,
   "metadata": {},
   "outputs": [],
   "source": [
    "#A função treinaClassificacao_GridSearchCV é para treinar o modelo com o GridSearchCV\n",
    "def treinaClassificacao_GridSearchCV(modelo, params_, x_treino, y_treino, x_teste, y_teste,\\\n",
    "                        n_jobs = -1, cv = 5, refit = True, scoring = None, salvar_resultados = False,\\\n",
    "                       report_treino = False, retorna_modelo = False):\n",
    "    \n",
    "    # Realizando treinamento baseado no grid informado\n",
    "    grid = GridSearchCV(modelo, params_, n_jobs = n_jobs, cv = cv, refit = refit, scoring = scoring)\n",
    "    \n",
    "    grid.fit(x_treino, y_treino)\n",
    "    pred = grid.predict(x_teste)\n",
    "    modelo_ = grid.best_estimator_\n",
    "\n",
    "    print(grid.best_params_)\n",
    "    \n",
    "    # Realizando previsões\n",
    "    y_test_pred = modelo_.predict(x_teste)\n",
    "    \n",
    "    # Gerando report do modelo\n",
    "    report_modelo(modelo_, y_teste, y_test_pred) \n",
    "    \n",
    "    # Salvando resultados em dataframe caso solicitado\n",
    "    if salvar_resultados:\n",
    "        resultados_df = pd.DataFrame(grid.cv_results_)\n",
    "        \n",
    "        if retorna_modelo:\n",
    "            return resultados_df, modelo_\n",
    "        else:\n",
    "            resultados_df\n",
    "        \n",
    "    if retorna_modelo:\n",
    "        return modelo_"
   ]
  },
  {
   "cell_type": "code",
   "execution_count": null,
   "metadata": {},
   "outputs": [],
   "source": [
    "#Instancia modelo base\n",
    "nb_classifier = MultinomialNB()\n",
    "nb_classifier.fit(X_train_vec, y_train)"
   ]
  },
  {
   "cell_type": "markdown",
   "metadata": {},
   "source": [
    "**Treinando com o Naive Bayes**"
   ]
  },
  {
   "cell_type": "code",
   "execution_count": null,
   "metadata": {},
   "outputs": [],
   "source": [
    "# Realiza previsões e imprime report\n",
    "y_pred = nb_classifier.predict(X_test_vec)\n",
    "report_modelo(nb_classifier, y_test, y_pred) "
   ]
  },
  {
   "cell_type": "markdown",
   "metadata": {},
   "source": [
    "**Tunning do NaiveBayes bigram**"
   ]
  },
  {
   "cell_type": "code",
   "execution_count": null,
   "metadata": {},
   "outputs": [],
   "source": [
    "%%time\n",
    "\n",
    "params = {\n",
    "    'alpha': [i * 0.001 for i in range(1000)],\n",
    "    'fit_prior': [True, False]\n",
    "}\n",
    "\n",
    "# Tuning Naibe Nayes\n",
    "modelo_nb = MultinomialNB()\n",
    "\n",
    "modelo_nb = treinaClassificacao_GridSearchCV(modelo_nb, params, X_train_vec, y_train,\\\n",
    "                                              X_test_vec, y_test)"
   ]
  },
  {
   "cell_type": "code",
   "execution_count": null,
   "metadata": {},
   "outputs": [],
   "source": [
    "# Salvando modelo como pickle\n",
    "with open('models/naive_bayes_bigram.pkl', 'wb') as model_file:\n",
    "    pickle.dump(nb_classifier, model_file)"
   ]
  },
  {
   "cell_type": "markdown",
   "metadata": {},
   "source": [
    "**Vetorizando por Trigram**"
   ]
  },
  {
   "cell_type": "code",
   "execution_count": null,
   "metadata": {},
   "outputs": [],
   "source": [
    "# Realiza contagem de token com trigram\n",
    "vectorizer = CountVectorizer(ngram_range = (3, 3))\n",
    "X_train_vec = vectorizer.fit_transform(X_train)\n",
    "X_test_vec = vectorizer.transform(X_test)"
   ]
  },
  {
   "cell_type": "markdown",
   "metadata": {},
   "source": [
    "**Modelo Base Naive Bayes Trigram**"
   ]
  },
  {
   "cell_type": "code",
   "execution_count": null,
   "metadata": {},
   "outputs": [],
   "source": [
    "# Instancia modelo base\n",
    "nb_classifier = MultinomialNB()\n",
    "nb_classifier.fit(X_train_vec, y_train)"
   ]
  },
  {
   "cell_type": "code",
   "execution_count": null,
   "metadata": {},
   "outputs": [],
   "source": [
    "# Realiza previsões e imprime report\n",
    "y_pred = nb_classifier.predict(X_test_vec)\n",
    "report_modelo(nb_classifier, y_test, y_pred) "
   ]
  },
  {
   "cell_type": "markdown",
   "metadata": {},
   "source": [
    "**Tunning Naive Bayes Trigram**"
   ]
  },
  {
   "cell_type": "code",
   "execution_count": null,
   "metadata": {},
   "outputs": [],
   "source": [
    "%%time\n",
    "\n",
    "params = {\n",
    "    'alpha': [i * 0.001 for i in range(1000)],\n",
    "    'fit_prior': [True, False]\n",
    "}\n",
    "\n",
    "# Tuning Naibe Nayes\n",
    "modelo_nb = MultinomialNB()\n",
    "\n",
    "modelo_nb = treinaClassificacao_GridSearchCV(modelo_nb, params, X_train_vec, y_train,\\\n",
    "                                              X_test_vec, y_test)"
   ]
  },
  {
   "cell_type": "code",
   "execution_count": null,
   "metadata": {},
   "outputs": [],
   "source": [
    "# Salvando modelo como pickle\n",
    "with open('models/naive_bayes_trigram.pkl', 'wb') as model_file:\n",
    "    pickle.dump(nb_classifier, model_file)"
   ]
  },
  {
   "cell_type": "markdown",
   "metadata": {},
   "source": [
    "**Vetorizando por Texto**"
   ]
  },
  {
   "cell_type": "code",
   "execution_count": null,
   "metadata": {},
   "outputs": [],
   "source": [
    "# Realiza contagem de token com trigram\n",
    "vectorizer = CountVectorizer()\n",
    "X_train_vec = vectorizer.fit_transform(X_train)\n",
    "X_test_vec = vectorizer.transform(X_test)"
   ]
  },
  {
   "cell_type": "markdown",
   "metadata": {},
   "source": [
    "**Modelo Base Naive Bayes**"
   ]
  },
  {
   "cell_type": "code",
   "execution_count": null,
   "metadata": {},
   "outputs": [],
   "source": [
    "# Instancia modelo base\n",
    "nb_classifier = MultinomialNB()\n",
    "nb_classifier.fit(X_train_vec, y_train)"
   ]
  },
  {
   "cell_type": "code",
   "execution_count": null,
   "metadata": {},
   "outputs": [],
   "source": [
    "# Realiza previsões e imprime report\n",
    "y_pred = nb_classifier.predict(X_test_vec)\n",
    "report_modelo(nb_classifier, y_test, y_pred) "
   ]
  },
  {
   "cell_type": "markdown",
   "metadata": {},
   "source": [
    "**Tunning Naive Bayes vetorizado por Texto**"
   ]
  },
  {
   "cell_type": "code",
   "execution_count": null,
   "metadata": {},
   "outputs": [],
   "source": [
    "%%time\n",
    "\n",
    "params = {\n",
    "    'alpha': [i * 0.001 for i in range(1000)],\n",
    "    'fit_prior': [True, False]\n",
    "}\n",
    "\n",
    "# Tuning Naibe Nayes\n",
    "modelo_nb = MultinomialNB()\n",
    "\n",
    "modelo_nb = treinaClassificacao_GridSearchCV(modelo_nb, params, X_train_vec, y_train,\\\n",
    "                                              X_test_vec, y_test)"
   ]
  },
  {
   "cell_type": "code",
   "execution_count": null,
   "metadata": {},
   "outputs": [],
   "source": [
    "# Salvando modelo como pickle\n",
    "with open('models/naive_bayes.pkl', 'wb') as model_file:\n",
    "    pickle.dump(nb_classifier, model_file)"
   ]
  },
  {
   "cell_type": "code",
   "execution_count": null,
   "metadata": {},
   "outputs": [],
   "source": [
    "# Salvando count vectorizer como pickle\n",
    "with open('models/countvectorizer_naive_bayes.pkl', 'wb') as model_file:\n",
    "    pickle.dump(vectorizer, model_file)"
   ]
  }
 ],
 "metadata": {
  "kernelspec": {
   "display_name": "Python 3",
   "language": "python",
   "name": "python3"
  },
  "language_info": {
   "codemirror_mode": {
    "name": "ipython",
    "version": 3
   },
   "file_extension": ".py",
   "mimetype": "text/x-python",
   "name": "python",
   "nbconvert_exporter": "python",
   "pygments_lexer": "ipython3",
   "version": "3.10.12"
  }
 },
 "nbformat": 4,
 "nbformat_minor": 2
}
